{
 "cells": [
  {
   "cell_type": "code",
   "execution_count": 1,
   "metadata": {},
   "outputs": [
    {
     "name": "stderr",
     "output_type": "stream",
     "text": [
      "2023-05-31 02:06:43.331881: I tensorflow/tsl/cuda/cudart_stub.cc:28] Could not find cuda drivers on your machine, GPU will not be used.\n",
      "2023-05-31 02:06:43.395893: I tensorflow/tsl/cuda/cudart_stub.cc:28] Could not find cuda drivers on your machine, GPU will not be used.\n",
      "2023-05-31 02:06:43.406540: I tensorflow/core/platform/cpu_feature_guard.cc:182] This TensorFlow binary is optimized to use available CPU instructions in performance-critical operations.\n",
      "To enable the following instructions: AVX2, in other operations, rebuild TensorFlow with the appropriate compiler flags.\n",
      "2023-05-31 02:06:45.374307: W tensorflow/compiler/tf2tensorrt/utils/py_utils.cc:38] TF-TRT Warning: Could not find TensorRT\n"
     ]
    },
    {
     "name": "stdout",
     "output_type": "stream",
     "text": [
      "2.12.0\n"
     ]
    }
   ],
   "source": [
    "# Доп. задание:  вместо binary_crossentropy использовать функцию потерь mean_squared_error\n",
    "import tensorflow as tf\n",
    "from tensorflow import keras\n",
    "import numpy as np\n",
    "print(tf.__version__)"
   ]
  },
  {
   "cell_type": "code",
   "execution_count": 2,
   "metadata": {},
   "outputs": [],
   "source": [
    "imdb = keras.datasets.imdb\n",
    "(train_data, train_labels), (test_data, test_labels) = imdb.load_data(num_words=10000)"
   ]
  },
  {
   "cell_type": "code",
   "execution_count": 3,
   "metadata": {},
   "outputs": [],
   "source": [
    "# Назначим словарь, который будет отображать слова из массива данных\n",
    "word_index = imdb.get_word_index()\n",
    "\n",
    "# Зарезервируем первые несколько значений\n",
    "word_index = {k:(v+3) for k,v in word_index.items()}\n",
    "word_index[\"<PAD>\"] = 0\n",
    "word_index[\"<START>\"] = 1\n",
    "word_index[\"<UNK>\"] = 2\n",
    "# Вместо редких слов, не вошедших в набор из 10000, будет указано UNK\n",
    "word_index[\"<UNUSED>\"] = 3\n",
    "\n",
    "reverse_word_index = dict([(value, key) for (key, value) in word_index.items()])\n",
    "\n",
    "def decode_review(text):\n",
    "    return ' '.join([reverse_word_index.get(i, '?') for i in text])"
   ]
  },
  {
   "cell_type": "code",
   "execution_count": 4,
   "metadata": {},
   "outputs": [],
   "source": [
    "# Подготовка данных\n",
    "train_data = keras.preprocessing.sequence.pad_sequences(train_data,\n",
    "value=word_index[\"<PAD>\"],\n",
    "padding='post',\n",
    "maxlen=256)\n",
    "\n",
    "test_data = keras.preprocessing.sequence.pad_sequences(test_data, value=word_index[\"<PAD>\"],\n",
    "padding='post',\n",
    "maxlen=256)"
   ]
  },
  {
   "cell_type": "code",
   "execution_count": 5,
   "metadata": {},
   "outputs": [
    {
     "name": "stdout",
     "output_type": "stream",
     "text": [
      "Model: \"sequential\"\n",
      "_________________________________________________________________\n",
      " Layer (type)                Output Shape              Param #   \n",
      "=================================================================\n",
      " embedding (Embedding)       (None, None, 16)          160000    \n",
      "                                                                 \n",
      " global_average_pooling1d (G  (None, 16)               0         \n",
      " lobalAveragePooling1D)                                          \n",
      "                                                                 \n",
      " dense (Dense)               (None, 16)                272       \n",
      "                                                                 \n",
      " dense_1 (Dense)             (None, 1)                 17        \n",
      "                                                                 \n",
      "=================================================================\n",
      "Total params: 160,289\n",
      "Trainable params: 160,289\n",
      "Non-trainable params: 0\n",
      "_________________________________________________________________\n"
     ]
    }
   ],
   "source": [
    "# Создание модели\n",
    "# Размер входных данных - количество слов, использованных в обзорах фильмов (10000 слов)\n",
    "vocab_size = 10000\n",
    "\n",
    "model = keras.Sequential()\n",
    "model.add(keras.layers.Embedding(vocab_size, 16, input_shape=(None,)))\n",
    "model.add(keras.layers.GlobalAveragePooling1D())\n",
    "model.add(keras.layers.Dense(16, activation=tf.nn.relu))\n",
    "model.add(keras.layers.Dense(1, activation=tf.nn.sigmoid))\n",
    "model.summary()"
   ]
  },
  {
   "cell_type": "code",
   "execution_count": 6,
   "metadata": {},
   "outputs": [],
   "source": [
    "# Определение функций потерь и оптимизатора\n",
    "model.compile(optimizer='adam',\n",
    "loss='mean_squared_error',\n",
    "metrics=['accuracy'])\n"
   ]
  },
  {
   "cell_type": "code",
   "execution_count": 7,
   "metadata": {},
   "outputs": [],
   "source": [
    "# Создание проверочного набора данных\n",
    "x_val = train_data[:10000]\n",
    "partial_x_train = train_data[10000:]\n",
    "\n",
    "y_val = train_labels[:10000]\n",
    "partial_y_train = train_labels[10000:]"
   ]
  },
  {
   "cell_type": "code",
   "execution_count": 8,
   "metadata": {},
   "outputs": [
    {
     "name": "stderr",
     "output_type": "stream",
     "text": [
      "2023-05-31 02:06:56.004177: W tensorflow/tsl/framework/cpu_allocator_impl.cc:83] Allocation of 15360000 exceeds 10% of free system memory.\n"
     ]
    },
    {
     "name": "stdout",
     "output_type": "stream",
     "text": [
      "Epoch 1/40\n",
      "30/30 [==============================] - 3s 48ms/step - loss: 0.2496 - accuracy: 0.5631 - val_loss: 0.2491 - val_accuracy: 0.5954\n",
      "Epoch 2/40\n",
      "30/30 [==============================] - 1s 32ms/step - loss: 0.2479 - accuracy: 0.6766 - val_loss: 0.2466 - val_accuracy: 0.6807\n",
      "Epoch 3/40\n",
      "30/30 [==============================] - 1s 32ms/step - loss: 0.2438 - accuracy: 0.7451 - val_loss: 0.2412 - val_accuracy: 0.7446\n",
      "Epoch 4/40\n",
      "30/30 [==============================] - 1s 34ms/step - loss: 0.2361 - accuracy: 0.7668 - val_loss: 0.2318 - val_accuracy: 0.7596\n",
      "Epoch 5/40\n",
      "30/30 [==============================] - 1s 30ms/step - loss: 0.2235 - accuracy: 0.7814 - val_loss: 0.2178 - val_accuracy: 0.7666\n",
      "Epoch 6/40\n",
      "30/30 [==============================] - 1s 33ms/step - loss: 0.2063 - accuracy: 0.8000 - val_loss: 0.2003 - val_accuracy: 0.7932\n",
      "Epoch 7/40\n",
      "30/30 [==============================] - 1s 31ms/step - loss: 0.1862 - accuracy: 0.8191 - val_loss: 0.1815 - val_accuracy: 0.8124\n",
      "Epoch 8/40\n",
      "30/30 [==============================] - 1s 33ms/step - loss: 0.1659 - accuracy: 0.8408 - val_loss: 0.1639 - val_accuracy: 0.8225\n",
      "Epoch 9/40\n",
      "30/30 [==============================] - 1s 31ms/step - loss: 0.1477 - accuracy: 0.8551 - val_loss: 0.1487 - val_accuracy: 0.8389\n",
      "Epoch 10/40\n",
      "30/30 [==============================] - 1s 29ms/step - loss: 0.1323 - accuracy: 0.8683 - val_loss: 0.1365 - val_accuracy: 0.8489\n",
      "Epoch 11/40\n",
      "30/30 [==============================] - 1s 29ms/step - loss: 0.1199 - accuracy: 0.8763 - val_loss: 0.1269 - val_accuracy: 0.8567\n",
      "Epoch 12/40\n",
      "30/30 [==============================] - 1s 34ms/step - loss: 0.1097 - accuracy: 0.8858 - val_loss: 0.1194 - val_accuracy: 0.8621\n",
      "Epoch 13/40\n",
      "30/30 [==============================] - 1s 31ms/step - loss: 0.1012 - accuracy: 0.8929 - val_loss: 0.1135 - val_accuracy: 0.8678\n",
      "Epoch 14/40\n",
      "30/30 [==============================] - 1s 30ms/step - loss: 0.0942 - accuracy: 0.8993 - val_loss: 0.1086 - val_accuracy: 0.8698\n",
      "Epoch 15/40\n",
      "30/30 [==============================] - 1s 30ms/step - loss: 0.0880 - accuracy: 0.9046 - val_loss: 0.1047 - val_accuracy: 0.8733\n",
      "Epoch 16/40\n",
      "30/30 [==============================] - 1s 39ms/step - loss: 0.0829 - accuracy: 0.9099 - val_loss: 0.1018 - val_accuracy: 0.8725\n",
      "Epoch 17/40\n",
      "30/30 [==============================] - 1s 30ms/step - loss: 0.0783 - accuracy: 0.9141 - val_loss: 0.0986 - val_accuracy: 0.8781\n",
      "Epoch 18/40\n",
      "30/30 [==============================] - 1s 31ms/step - loss: 0.0739 - accuracy: 0.9189 - val_loss: 0.0964 - val_accuracy: 0.8794\n",
      "Epoch 19/40\n",
      "30/30 [==============================] - 1s 30ms/step - loss: 0.0701 - accuracy: 0.9239 - val_loss: 0.0944 - val_accuracy: 0.8798\n",
      "Epoch 20/40\n",
      "30/30 [==============================] - 1s 30ms/step - loss: 0.0666 - accuracy: 0.9279 - val_loss: 0.0927 - val_accuracy: 0.8814\n",
      "Epoch 21/40\n",
      "30/30 [==============================] - 1s 29ms/step - loss: 0.0632 - accuracy: 0.9312 - val_loss: 0.0913 - val_accuracy: 0.8822\n",
      "Epoch 22/40\n",
      "30/30 [==============================] - 1s 33ms/step - loss: 0.0602 - accuracy: 0.9345 - val_loss: 0.0902 - val_accuracy: 0.8829\n",
      "Epoch 23/40\n",
      "30/30 [==============================] - 1s 30ms/step - loss: 0.0577 - accuracy: 0.9389 - val_loss: 0.0891 - val_accuracy: 0.8842\n",
      "Epoch 24/40\n",
      "30/30 [==============================] - 1s 29ms/step - loss: 0.0549 - accuracy: 0.9417 - val_loss: 0.0886 - val_accuracy: 0.8849\n",
      "Epoch 25/40\n",
      "30/30 [==============================] - 1s 29ms/step - loss: 0.0523 - accuracy: 0.9458 - val_loss: 0.0876 - val_accuracy: 0.8855\n",
      "Epoch 26/40\n",
      "30/30 [==============================] - 1s 29ms/step - loss: 0.0500 - accuracy: 0.9487 - val_loss: 0.0871 - val_accuracy: 0.8846\n",
      "Epoch 27/40\n",
      "30/30 [==============================] - 1s 28ms/step - loss: 0.0479 - accuracy: 0.9514 - val_loss: 0.0866 - val_accuracy: 0.8862\n",
      "Epoch 28/40\n",
      "30/30 [==============================] - 1s 38ms/step - loss: 0.0458 - accuracy: 0.9541 - val_loss: 0.0862 - val_accuracy: 0.8869\n",
      "Epoch 29/40\n",
      "30/30 [==============================] - 1s 29ms/step - loss: 0.0438 - accuracy: 0.9573 - val_loss: 0.0861 - val_accuracy: 0.8852\n",
      "Epoch 30/40\n",
      "30/30 [==============================] - 1s 29ms/step - loss: 0.0421 - accuracy: 0.9585 - val_loss: 0.0861 - val_accuracy: 0.8857\n",
      "Epoch 31/40\n",
      "30/30 [==============================] - 1s 29ms/step - loss: 0.0403 - accuracy: 0.9611 - val_loss: 0.0856 - val_accuracy: 0.8862\n",
      "Epoch 32/40\n",
      "30/30 [==============================] - 1s 29ms/step - loss: 0.0386 - accuracy: 0.9627 - val_loss: 0.0856 - val_accuracy: 0.8852\n",
      "Epoch 33/40\n",
      "30/30 [==============================] - 1s 34ms/step - loss: 0.0372 - accuracy: 0.9648 - val_loss: 0.0857 - val_accuracy: 0.8852\n",
      "Epoch 34/40\n",
      "30/30 [==============================] - 1s 30ms/step - loss: 0.0355 - accuracy: 0.9668 - val_loss: 0.0855 - val_accuracy: 0.8868\n",
      "Epoch 35/40\n",
      "30/30 [==============================] - 1s 28ms/step - loss: 0.0341 - accuracy: 0.9685 - val_loss: 0.0858 - val_accuracy: 0.8853\n",
      "Epoch 36/40\n",
      "30/30 [==============================] - 1s 31ms/step - loss: 0.0327 - accuracy: 0.9706 - val_loss: 0.0857 - val_accuracy: 0.8863\n",
      "Epoch 37/40\n",
      "30/30 [==============================] - 1s 27ms/step - loss: 0.0314 - accuracy: 0.9713 - val_loss: 0.0860 - val_accuracy: 0.8855\n",
      "Epoch 38/40\n",
      "30/30 [==============================] - 1s 29ms/step - loss: 0.0301 - accuracy: 0.9731 - val_loss: 0.0864 - val_accuracy: 0.8831\n",
      "Epoch 39/40\n",
      "30/30 [==============================] - 1s 32ms/step - loss: 0.0291 - accuracy: 0.9737 - val_loss: 0.0863 - val_accuracy: 0.8840\n",
      "Epoch 40/40\n",
      "30/30 [==============================] - 1s 33ms/step - loss: 0.0279 - accuracy: 0.9756 - val_loss: 0.0865 - val_accuracy: 0.8836\n"
     ]
    }
   ],
   "source": [
    "# Обучение модели\n",
    "history = model.fit(partial_x_train,\n",
    "partial_y_train,\n",
    "epochs=40,\n",
    "batch_size=512,\n",
    "validation_data=(x_val, y_val),\n",
    "verbose=1)"
   ]
  },
  {
   "cell_type": "code",
   "execution_count": 9,
   "metadata": {},
   "outputs": [
    {
     "data": {
      "text/plain": [
       "dict_keys(['loss', 'accuracy', 'val_loss', 'val_accuracy'])"
      ]
     },
     "execution_count": 9,
     "metadata": {},
     "output_type": "execute_result"
    }
   ],
   "source": [
    "history_dict = history.history\n",
    "history_dict.keys()"
   ]
  },
  {
   "cell_type": "code",
   "execution_count": 10,
   "metadata": {},
   "outputs": [
    {
     "data": {
      "image/png": "[encoded data removed]",
      "text/plain": [
       "<Figure size 640x480 with 1 Axes>"
      ]
     },
     "metadata": {},
     "output_type": "display_data"
    }
   ],
   "source": [
    "import matplotlib.pyplot as plt\n",
    "\n",
    "acc = history.history['accuracy']\n",
    "val_acc = history.history['val_accuracy']\n",
    "loss = history.history['loss']\n",
    "val_loss = history.history['val_loss']\n",
    "\n",
    "epochs = range(1, len(acc) + 1)\n",
    "\n",
    "# \"bo\" означает \"blue dot\", синяя точка\n",
    "plt.plot(epochs, loss, 'bo', label='Потери обучения')\n",
    "# \"b\" означает \"solid blue line\", непрерывная синяя линия\n",
    "plt.plot(epochs, val_loss, 'b', label='Потери проверки')\n",
    "plt.title('Потери во время обучения и проверки')\n",
    "plt.xlabel('Эпохи')\n",
    "plt.ylabel('Потери')\n",
    "plt.legend()\n",
    "\n",
    "plt.show()"
   ]
  },
  {
   "cell_type": "code",
   "execution_count": 11,
   "metadata": {},
   "outputs": [
    {
     "data": {
      "text/plain": [
       "<matplotlib.legend.Legend at 0x7f6dba822410>"
      ]
     },
     "execution_count": 11,
     "metadata": {},
     "output_type": "execute_result"
    },
    {
     "data": {
      "image/png": "[encoded data removed]",
      "text/plain": [
       "<Figure size 640x480 with 1 Axes>"
      ]
     },
     "metadata": {},
     "output_type": "display_data"
    }
   ],
   "source": [
    "plt.clf() \n",
    "# Очистим график\n",
    "\n",
    "plt.plot(epochs, acc, 'bo', label='Точность обучения')\n",
    "plt.plot(epochs, val_acc, 'b', label='Точность проверки')\n",
    "plt.title('Точность во время обучения и проверки')\n",
    "plt.xlabel('Эпохи')\n",
    "plt.ylabel('Точность')\n",
    "plt.legend()"
   ]
  },
  {
   "cell_type": "code",
   "execution_count": 12,
   "metadata": {},
   "outputs": [
    {
     "name": "stdout",
     "output_type": "stream",
     "text": [
      "  1/782 [..............................] - ETA: 41s - loss: 0.0851 - accuracy: 0.8750"
     ]
    },
    {
     "name": "stderr",
     "output_type": "stream",
     "text": [
      "2023-05-31 02:07:41.570773: W tensorflow/tsl/framework/cpu_allocator_impl.cc:83] Allocation of 25600000 exceeds 10% of free system memory.\n"
     ]
    },
    {
     "name": "stdout",
     "output_type": "stream",
     "text": [
      "782/782 [==============================] - 3s 4ms/step - loss: 0.0931 - accuracy: 0.8744\n",
      "[0.09313704818487167, 0.8743600249290466]\n"
     ]
    }
   ],
   "source": [
    "# Оценка точности модели\n",
    "results = model.evaluate(test_data, test_labels)\n",
    "print(results)"
   ]
  },
  {
   "cell_type": "code",
   "execution_count": 13,
   "metadata": {},
   "outputs": [
    {
     "name": "stdout",
     "output_type": "stream",
     "text": [
      "  1/782 [..............................] - ETA: 1:47 - loss: 0.0851 - accuracy: 0.8750"
     ]
    },
    {
     "name": "stderr",
     "output_type": "stream",
     "text": [
      "2023-05-31 02:07:45.415066: W tensorflow/tsl/framework/cpu_allocator_impl.cc:83] Allocation of 25600000 exceeds 10% of free system memory.\n"
     ]
    },
    {
     "name": "stdout",
     "output_type": "stream",
     "text": [
      "782/782 [==============================] - 4s 4ms/step - loss: 0.0931 - accuracy: 0.8744\n",
      "Восстановленная модель, точность: 87.44%\n"
     ]
    }
   ],
   "source": [
    "# Сохранение модели\n",
    "model.save('model_Dop3_class.h5')\n",
    "# Создание модели из сохраненного файла\n",
    "new_model = keras.models.load_model('model_Dop3_class.h5')\n",
    "# Проверим заданную модель из файла\n",
    "loss, acc = new_model.evaluate(test_data, test_labels)\n",
    "print(\"Восстановленная модель, точность: {:5.2f}%\".format(100*acc))"
   ]
  },
  {
   "cell_type": "code",
   "execution_count": 14,
   "metadata": {},
   "outputs": [
    {
     "name": "stdout",
     "output_type": "stream",
     "text": [
      " 10/782 [..............................] - ETA: 4s - loss: 0.0790 - accuracy: 0.8844 "
     ]
    },
    {
     "name": "stderr",
     "output_type": "stream",
     "text": [
      "2023-05-31 02:07:49.179697: W tensorflow/tsl/framework/cpu_allocator_impl.cc:83] Allocation of 25600000 exceeds 10% of free system memory.\n"
     ]
    },
    {
     "name": "stdout",
     "output_type": "stream",
     "text": [
      "782/782 [==============================] - 2s 3ms/step - loss: 0.0931 - accuracy: 0.8744\n",
      "Изначальная модель, точность: 87.44%\n"
     ]
    }
   ],
   "source": [
    "# Сравним более наглядно точность старой модели относительно новой\n",
    "loss , acc = model.evaluate(test_data, test_labels)\n",
    "print(\"Изначальная модель, точность: {:5.2f}%\".format(100*acc))"
   ]
  },
  {
   "cell_type": "code",
   "execution_count": null,
   "metadata": {},
   "outputs": [],
   "source": []
  }
 ],
 "metadata": {
  "kernelspec": {
   "display_name": "Python 3",
   "language": "python",
   "name": "python3"
  },
  "language_info": {
   "codemirror_mode": {
    "name": "ipython",
    "version": 3
   },
   "file_extension": ".py",
   "mimetype": "text/x-python",
   "name": "python",
   "nbconvert_exporter": "python",
   "pygments_lexer": "ipython3",
   "version": "3.10.6"
  },
  "orig_nbformat": 4
 },
 "nbformat": 4,
 "nbformat_minor": 2
}
