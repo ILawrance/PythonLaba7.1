{
 "cells": [
  {
   "cell_type": "code",
   "execution_count": 1,
   "metadata": {},
   "outputs": [
    {
     "name": "stderr",
     "output_type": "stream",
     "text": [
      "2023-05-31 01:45:21.613085: I tensorflow/tsl/cuda/cudart_stub.cc:28] Could not find cuda drivers on your machine, GPU will not be used.\n",
      "2023-05-31 01:45:22.031619: I tensorflow/tsl/cuda/cudart_stub.cc:28] Could not find cuda drivers on your machine, GPU will not be used.\n",
      "2023-05-31 01:45:22.033629: I tensorflow/core/platform/cpu_feature_guard.cc:182] This TensorFlow binary is optimized to use available CPU instructions in performance-critical operations.\n",
      "To enable the following instructions: AVX2, in other operations, rebuild TensorFlow with the appropriate compiler flags.\n",
      "2023-05-31 01:45:26.226619: W tensorflow/compiler/tf2tensorrt/utils/py_utils.cc:38] TF-TRT Warning: Could not find TensorRT\n"
     ]
    },
    {
     "name": "stdout",
     "output_type": "stream",
     "text": [
      "2.12.0\n"
     ]
    }
   ],
   "source": [
    "# Доп. задание: 3 слоя Dense\n",
    "import tensorflow as tf\n",
    "from tensorflow import keras\n",
    "import numpy as np\n",
    "print(tf.__version__)"
   ]
  },
  {
   "cell_type": "code",
   "execution_count": 2,
   "metadata": {},
   "outputs": [],
   "source": [
    "imdb = keras.datasets.imdb\n",
    "(train_data, train_labels), (test_data, test_labels) = imdb.load_data(num_words=10000)"
   ]
  },
  {
   "cell_type": "code",
   "execution_count": 6,
   "metadata": {},
   "outputs": [],
   "source": [
    "# Назначим словарь, который будет отображать слова из массива данных\n",
    "word_index = imdb.get_word_index()\n",
    "\n",
    "# Зарезервируем первые несколько значений\n",
    "word_index = {k:(v+3) for k,v in word_index.items()}\n",
    "word_index[\"<PAD>\"] = 0\n",
    "word_index[\"<START>\"] = 1\n",
    "word_index[\"<UNK>\"] = 2\n",
    "# Вместо редких слов, не вошедших в набор из 10000, будет указано UNK\n",
    "word_index[\"<UNUSED>\"] = 3\n",
    "\n",
    "reverse_word_index = dict([(value, key) for (key, value) in word_index.items()])\n",
    "\n",
    "def decode_review(text):\n",
    "    return ' '.join([reverse_word_index.get(i, '?') for i in text])"
   ]
  },
  {
   "cell_type": "code",
   "execution_count": 8,
   "metadata": {},
   "outputs": [
    {
     "name": "stdout",
     "output_type": "stream",
     "text": [
      "256 256\n"
     ]
    }
   ],
   "source": [
    "# Подготовка данных\n",
    "train_data = keras.preprocessing.sequence.pad_sequences(train_data,\n",
    "value=word_index[\"<PAD>\"],\n",
    "padding='post',\n",
    "maxlen=256)\n",
    "\n",
    "test_data = keras.preprocessing.sequence.pad_sequences(test_data, value=word_index[\"<PAD>\"],\n",
    "padding='post',\n",
    "maxlen=256)\n",
    "\n",
    "print(len(train_data[0]), len(train_data[1]))"
   ]
  },
  {
   "cell_type": "code",
   "execution_count": 10,
   "metadata": {},
   "outputs": [
    {
     "name": "stdout",
     "output_type": "stream",
     "text": [
      "Model: \"sequential\"\n",
      "_________________________________________________________________\n",
      " Layer (type)                Output Shape              Param #   \n",
      "=================================================================\n",
      " embedding (Embedding)       (None, None, 16)          160000    \n",
      "                                                                 \n",
      " global_average_pooling1d (G  (None, 16)               0         \n",
      " lobalAveragePooling1D)                                          \n",
      "                                                                 \n",
      " dense (Dense)               (None, 16)                272       \n",
      "                                                                 \n",
      " dense_1 (Dense)             (None, 16)                272       \n",
      "                                                                 \n",
      " dense_2 (Dense)             (None, 16)                272       \n",
      "                                                                 \n",
      " dense_3 (Dense)             (None, 1)                 17        \n",
      "                                                                 \n",
      "=================================================================\n",
      "Total params: 160,833\n",
      "Trainable params: 160,833\n",
      "Non-trainable params: 0\n",
      "_________________________________________________________________\n"
     ]
    }
   ],
   "source": [
    "# Создание модели\n",
    "# Размер входных данных - количество слов, использованных в обзорах фильмов (10000 слов)\n",
    "vocab_size = 10000\n",
    "\n",
    "model = keras.Sequential()\n",
    "model.add(keras.layers.Embedding(vocab_size, 16, input_shape=(None,)))\n",
    "model.add(keras.layers.GlobalAveragePooling1D())\n",
    "model.add(keras.layers.Dense(16, activation=tf.nn.relu))\n",
    "model.add(keras.layers.Dense(16, activation=tf.nn.relu))\n",
    "model.add(keras.layers.Dense(16, activation=tf.nn.relu))\n",
    "model.add(keras.layers.Dense(1, activation=tf.nn.sigmoid))\n",
    "model.summary()"
   ]
  },
  {
   "cell_type": "code",
   "execution_count": 11,
   "metadata": {},
   "outputs": [],
   "source": [
    "# Определение функций потерь и оптимизатора\n",
    "model.compile(optimizer='adam',\n",
    "loss='binary_crossentropy',\n",
    "metrics=['accuracy'])\n"
   ]
  },
  {
   "cell_type": "code",
   "execution_count": 12,
   "metadata": {},
   "outputs": [],
   "source": [
    "# Создание проверочного набора данных\n",
    "x_val = train_data[:10000]\n",
    "partial_x_train = train_data[10000:]\n",
    "\n",
    "y_val = train_labels[:10000]\n",
    "partial_y_train = train_labels[10000:]"
   ]
  },
  {
   "cell_type": "code",
   "execution_count": 13,
   "metadata": {},
   "outputs": [
    {
     "name": "stdout",
     "output_type": "stream",
     "text": [
      "Epoch 1/40\n",
      "30/30 [==============================] - 3s 46ms/step - loss: 0.6925 - accuracy: 0.5365 - val_loss: 0.6908 - val_accuracy: 0.6824\n",
      "Epoch 2/40\n",
      "30/30 [==============================] - 1s 37ms/step - loss: 0.6862 - accuracy: 0.7258 - val_loss: 0.6786 - val_accuracy: 0.7506\n",
      "Epoch 3/40\n",
      "30/30 [==============================] - 1s 33ms/step - loss: 0.6590 - accuracy: 0.7920 - val_loss: 0.6340 - val_accuracy: 0.8018\n",
      "Epoch 4/40\n",
      "30/30 [==============================] - 1s 35ms/step - loss: 0.5847 - accuracy: 0.8379 - val_loss: 0.5365 - val_accuracy: 0.8390\n",
      "Epoch 5/40\n",
      "30/30 [==============================] - 1s 35ms/step - loss: 0.4587 - accuracy: 0.8707 - val_loss: 0.4147 - val_accuracy: 0.8562\n",
      "Epoch 6/40\n",
      "30/30 [==============================] - 1s 38ms/step - loss: 0.3351 - accuracy: 0.8917 - val_loss: 0.3332 - val_accuracy: 0.8751\n",
      "Epoch 7/40\n",
      "30/30 [==============================] - 1s 40ms/step - loss: 0.2593 - accuracy: 0.9077 - val_loss: 0.3068 - val_accuracy: 0.8747\n",
      "Epoch 8/40\n",
      "30/30 [==============================] - 1s 36ms/step - loss: 0.2166 - accuracy: 0.9212 - val_loss: 0.2897 - val_accuracy: 0.8846\n",
      "Epoch 9/40\n",
      "30/30 [==============================] - 1s 35ms/step - loss: 0.1832 - accuracy: 0.9373 - val_loss: 0.2886 - val_accuracy: 0.8852\n",
      "Epoch 10/40\n",
      "30/30 [==============================] - 1s 33ms/step - loss: 0.1601 - accuracy: 0.9464 - val_loss: 0.2926 - val_accuracy: 0.8838\n",
      "Epoch 11/40\n",
      "30/30 [==============================] - 1s 34ms/step - loss: 0.1385 - accuracy: 0.9558 - val_loss: 0.2943 - val_accuracy: 0.8856\n",
      "Epoch 12/40\n",
      "30/30 [==============================] - 1s 33ms/step - loss: 0.1213 - accuracy: 0.9639 - val_loss: 0.3059 - val_accuracy: 0.8849\n",
      "Epoch 13/40\n",
      "30/30 [==============================] - 1s 34ms/step - loss: 0.1058 - accuracy: 0.9690 - val_loss: 0.3179 - val_accuracy: 0.8838\n",
      "Epoch 14/40\n",
      "30/30 [==============================] - 1s 37ms/step - loss: 0.0925 - accuracy: 0.9740 - val_loss: 0.3289 - val_accuracy: 0.8819\n",
      "Epoch 15/40\n",
      "30/30 [==============================] - 1s 35ms/step - loss: 0.0818 - accuracy: 0.9784 - val_loss: 0.3424 - val_accuracy: 0.8815\n",
      "Epoch 16/40\n",
      "30/30 [==============================] - 1s 34ms/step - loss: 0.0719 - accuracy: 0.9831 - val_loss: 0.3582 - val_accuracy: 0.8780\n",
      "Epoch 17/40\n",
      "30/30 [==============================] - 1s 42ms/step - loss: 0.0642 - accuracy: 0.9861 - val_loss: 0.3741 - val_accuracy: 0.8764\n",
      "Epoch 18/40\n",
      "30/30 [==============================] - 1s 33ms/step - loss: 0.0560 - accuracy: 0.9894 - val_loss: 0.3923 - val_accuracy: 0.8750\n",
      "Epoch 19/40\n",
      "30/30 [==============================] - 1s 35ms/step - loss: 0.0512 - accuracy: 0.9900 - val_loss: 0.4173 - val_accuracy: 0.8695\n",
      "Epoch 20/40\n",
      "30/30 [==============================] - 1s 35ms/step - loss: 0.0497 - accuracy: 0.9898 - val_loss: 0.4241 - val_accuracy: 0.8725\n",
      "Epoch 21/40\n",
      "30/30 [==============================] - 1s 33ms/step - loss: 0.0403 - accuracy: 0.9936 - val_loss: 0.4365 - val_accuracy: 0.8721\n",
      "Epoch 22/40\n",
      "30/30 [==============================] - 1s 34ms/step - loss: 0.0342 - accuracy: 0.9945 - val_loss: 0.4551 - val_accuracy: 0.8700\n",
      "Epoch 23/40\n",
      "30/30 [==============================] - 1s 34ms/step - loss: 0.0301 - accuracy: 0.9952 - val_loss: 0.4722 - val_accuracy: 0.8698\n",
      "Epoch 24/40\n",
      "30/30 [==============================] - 1s 37ms/step - loss: 0.0265 - accuracy: 0.9964 - val_loss: 0.4865 - val_accuracy: 0.8702\n",
      "Epoch 25/40\n",
      "30/30 [==============================] - 1s 34ms/step - loss: 0.0238 - accuracy: 0.9968 - val_loss: 0.5036 - val_accuracy: 0.8684\n",
      "Epoch 26/40\n",
      "30/30 [==============================] - 1s 36ms/step - loss: 0.0209 - accuracy: 0.9977 - val_loss: 0.5202 - val_accuracy: 0.8677\n",
      "Epoch 27/40\n",
      "30/30 [==============================] - 1s 34ms/step - loss: 0.0179 - accuracy: 0.9981 - val_loss: 0.5336 - val_accuracy: 0.8666\n",
      "Epoch 28/40\n",
      "30/30 [==============================] - 1s 35ms/step - loss: 0.0154 - accuracy: 0.9985 - val_loss: 0.5514 - val_accuracy: 0.8648\n",
      "Epoch 29/40\n",
      "30/30 [==============================] - 1s 34ms/step - loss: 0.0135 - accuracy: 0.9987 - val_loss: 0.5662 - val_accuracy: 0.8646\n",
      "Epoch 30/40\n",
      "30/30 [==============================] - 1s 33ms/step - loss: 0.0112 - accuracy: 0.9991 - val_loss: 0.5844 - val_accuracy: 0.8651\n",
      "Epoch 31/40\n",
      "30/30 [==============================] - 1s 33ms/step - loss: 0.0101 - accuracy: 0.9991 - val_loss: 0.5999 - val_accuracy: 0.8643\n",
      "Epoch 32/40\n",
      "30/30 [==============================] - 1s 33ms/step - loss: 0.0089 - accuracy: 0.9993 - val_loss: 0.6145 - val_accuracy: 0.8629\n",
      "Epoch 33/40\n",
      "30/30 [==============================] - 1s 34ms/step - loss: 0.0079 - accuracy: 0.9993 - val_loss: 0.6293 - val_accuracy: 0.8635\n",
      "Epoch 34/40\n",
      "30/30 [==============================] - 1s 37ms/step - loss: 0.0067 - accuracy: 0.9994 - val_loss: 0.6442 - val_accuracy: 0.8618\n",
      "Epoch 35/40\n",
      "30/30 [==============================] - 1s 35ms/step - loss: 0.0057 - accuracy: 0.9995 - val_loss: 0.6577 - val_accuracy: 0.8626\n",
      "Epoch 36/40\n",
      "30/30 [==============================] - 1s 36ms/step - loss: 0.0049 - accuracy: 0.9996 - val_loss: 0.6733 - val_accuracy: 0.8619\n",
      "Epoch 37/40\n",
      "30/30 [==============================] - 1s 34ms/step - loss: 0.0043 - accuracy: 0.9998 - val_loss: 0.6915 - val_accuracy: 0.8636\n",
      "Epoch 38/40\n",
      "30/30 [==============================] - 1s 44ms/step - loss: 0.0037 - accuracy: 0.9997 - val_loss: 0.6980 - val_accuracy: 0.8621\n",
      "Epoch 39/40\n",
      "30/30 [==============================] - 2s 51ms/step - loss: 0.0033 - accuracy: 0.9998 - val_loss: 0.7110 - val_accuracy: 0.8623\n",
      "Epoch 40/40\n",
      "30/30 [==============================] - 2s 54ms/step - loss: 0.0030 - accuracy: 0.9999 - val_loss: 0.7239 - val_accuracy: 0.8628\n"
     ]
    }
   ],
   "source": [
    "# Обучение модели\n",
    "history = model.fit(partial_x_train,\n",
    "partial_y_train,\n",
    "epochs=40,\n",
    "batch_size=512,\n",
    "validation_data=(x_val, y_val),\n",
    "verbose=1)"
   ]
  },
  {
   "cell_type": "code",
   "execution_count": 14,
   "metadata": {},
   "outputs": [
    {
     "data": {
      "text/plain": [
       "dict_keys(['loss', 'accuracy', 'val_loss', 'val_accuracy'])"
      ]
     },
     "execution_count": 14,
     "metadata": {},
     "output_type": "execute_result"
    }
   ],
   "source": [
    "history_dict = history.history\n",
    "history_dict.keys()"
   ]
  },
  {
   "cell_type": "code",
   "execution_count": 15,
   "metadata": {},
   "outputs": [
    {
     "data": {
      "image/png": "[encoded data removed]",
      "text/plain": [
       "<Figure size 640x480 with 1 Axes>"
      ]
     },
     "metadata": {},
     "output_type": "display_data"
    }
   ],
   "source": [
    "import matplotlib.pyplot as plt\n",
    "\n",
    "acc = history.history['accuracy']\n",
    "val_acc = history.history['val_accuracy']\n",
    "loss = history.history['loss']\n",
    "val_loss = history.history['val_loss']\n",
    "\n",
    "epochs = range(1, len(acc) + 1)\n",
    "\n",
    "# \"bo\" означает \"blue dot\", синяя точка\n",
    "plt.plot(epochs, loss, 'bo', label='Потери обучения')\n",
    "# \"b\" означает \"solid blue line\", непрерывная синяя линия\n",
    "plt.plot(epochs, val_loss, 'b', label='Потери проверки')\n",
    "plt.title('Потери во время обучения и проверки')\n",
    "plt.xlabel('Эпохи')\n",
    "plt.ylabel('Потери')\n",
    "plt.legend()\n",
    "\n",
    "plt.show()"
   ]
  },
  {
   "cell_type": "code",
   "execution_count": 16,
   "metadata": {},
   "outputs": [
    {
     "data": {
      "text/plain": [
       "<matplotlib.legend.Legend at 0x7f9db7aa9600>"
      ]
     },
     "execution_count": 16,
     "metadata": {},
     "output_type": "execute_result"
    },
    {
     "data": {
      "image/png": "[encoded data removed]",
      "text/plain": [
       "<Figure size 640x480 with 1 Axes>"
      ]
     },
     "metadata": {},
     "output_type": "display_data"
    }
   ],
   "source": [
    "plt.clf() \n",
    "# Очистим график\n",
    "\n",
    "plt.plot(epochs, acc, 'bo', label='Точность обучения')\n",
    "plt.plot(epochs, val_acc, 'b', label='Точность проверки')\n",
    "plt.title('Точность во время обучения и проверки')\n",
    "plt.xlabel('Эпохи')\n",
    "plt.ylabel('Точность')\n",
    "plt.legend()"
   ]
  },
  {
   "cell_type": "code",
   "execution_count": 17,
   "metadata": {},
   "outputs": [
    {
     "name": "stdout",
     "output_type": "stream",
     "text": [
      "782/782 [==============================] - 3s 3ms/step - loss: 0.7764 - accuracy: 0.8500\n",
      "[0.7763664722442627, 0.8499600291252136]\n"
     ]
    }
   ],
   "source": [
    "# Оценка точности модели\n",
    "results = model.evaluate(test_data, test_labels)\n",
    "print(results)"
   ]
  },
  {
   "cell_type": "code",
   "execution_count": 18,
   "metadata": {},
   "outputs": [
    {
     "name": "stdout",
     "output_type": "stream",
     "text": [
      "782/782 [==============================] - 3s 3ms/step - loss: 0.7764 - accuracy: 0.8500\n",
      "Восстановленная модель, точность: 85.00%\n"
     ]
    }
   ],
   "source": [
    "# Сохранение модели\n",
    "model.save('model_Dop1_class.h5')\n",
    "# Создание модели из сохраненного файла\n",
    "new_model = keras.models.load_model('model_Dop1_class.h5')\n",
    "# Проверим заданную модель из файла\n",
    "loss, acc = new_model.evaluate(test_data, test_labels)\n",
    "print(\"Восстановленная модель, точность: {:5.2f}%\".format(100*acc))"
   ]
  },
  {
   "cell_type": "code",
   "execution_count": 19,
   "metadata": {},
   "outputs": [
    {
     "name": "stdout",
     "output_type": "stream",
     "text": [
      "782/782 [==============================] - 3s 3ms/step - loss: 0.7764 - accuracy: 0.8500\n",
      "Изначальная модель, точность: 85.00%\n"
     ]
    }
   ],
   "source": [
    "# Сравним более наглядно точность старой модели относительно новой\n",
    "loss , acc = model.evaluate(test_data, test_labels)\n",
    "print(\"Изначальная модель, точность: {:5.2f}%\".format(100*acc))"
   ]
  },
  {
   "cell_type": "code",
   "execution_count": null,
   "metadata": {},
   "outputs": [],
   "source": []
  }
 ],
 "metadata": {
  "kernelspec": {
   "display_name": "Python 3",
   "language": "python",
   "name": "python3"
  },
  "language_info": {
   "codemirror_mode": {
    "name": "ipython",
    "version": 3
   },
   "file_extension": ".py",
   "mimetype": "text/x-python",
   "name": "python",
   "nbconvert_exporter": "python",
   "pygments_lexer": "ipython3",
   "version": "3.10.6"
  },
  "orig_nbformat": 4
 },
 "nbformat": 4,
 "nbformat_minor": 2
}
