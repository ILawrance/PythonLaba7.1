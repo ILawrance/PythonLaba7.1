{
 "cells": [
  {
   "cell_type": "code",
   "execution_count": 1,
   "metadata": {},
   "outputs": [
    {
     "name": "stderr",
     "output_type": "stream",
     "text": [
      "2023-05-31 02:09:13.387476: I tensorflow/tsl/cuda/cudart_stub.cc:28] Could not find cuda drivers on your machine, GPU will not be used.\n",
      "2023-05-31 02:09:14.758691: I tensorflow/tsl/cuda/cudart_stub.cc:28] Could not find cuda drivers on your machine, GPU will not be used.\n",
      "2023-05-31 02:09:14.760213: I tensorflow/core/platform/cpu_feature_guard.cc:182] This TensorFlow binary is optimized to use available CPU instructions in performance-critical operations.\n",
      "To enable the following instructions: AVX2, in other operations, rebuild TensorFlow with the appropriate compiler flags.\n",
      "2023-05-31 02:09:21.305111: W tensorflow/compiler/tf2tensorrt/utils/py_utils.cc:38] TF-TRT Warning: Could not find TensorRT\n"
     ]
    },
    {
     "name": "stdout",
     "output_type": "stream",
     "text": [
      "2.12.0\n"
     ]
    }
   ],
   "source": [
    "# доп. задание: вместо relu в промежуточном слое использовать функцию активации tanh \n",
    "import tensorflow as tf\n",
    "from tensorflow import keras\n",
    "import numpy as np\n",
    "print(tf.__version__)"
   ]
  },
  {
   "cell_type": "code",
   "execution_count": 2,
   "metadata": {},
   "outputs": [],
   "source": [
    "imdb = keras.datasets.imdb\n",
    "(train_data, train_labels), (test_data, test_labels) = imdb.load_data(num_words=10000)"
   ]
  },
  {
   "cell_type": "code",
   "execution_count": 3,
   "metadata": {},
   "outputs": [],
   "source": [
    "# Назначим словарь, который будет отображать слова из массива данных\n",
    "word_index = imdb.get_word_index()\n",
    "\n",
    "# Зарезервируем первые несколько значений\n",
    "word_index = {k:(v+3) for k,v in word_index.items()}\n",
    "word_index[\"<PAD>\"] = 0\n",
    "word_index[\"<START>\"] = 1\n",
    "word_index[\"<UNK>\"] = 2\n",
    "# Вместо редких слов, не вошедших в набор из 10000, будет указано UNK\n",
    "word_index[\"<UNUSED>\"] = 3\n",
    "\n",
    "reverse_word_index = dict([(value, key) for (key, value) in word_index.items()])\n",
    "\n",
    "def decode_review(text):\n",
    "    return ' '.join([reverse_word_index.get(i, '?') for i in text])"
   ]
  },
  {
   "cell_type": "code",
   "execution_count": 4,
   "metadata": {},
   "outputs": [],
   "source": [
    "# Подготовка данных\n",
    "train_data = keras.preprocessing.sequence.pad_sequences(train_data,\n",
    "value=word_index[\"<PAD>\"],\n",
    "padding='post',\n",
    "maxlen=256)\n",
    "\n",
    "test_data = keras.preprocessing.sequence.pad_sequences(test_data, value=word_index[\"<PAD>\"],\n",
    "padding='post',\n",
    "maxlen=256)"
   ]
  },
  {
   "cell_type": "code",
   "execution_count": 5,
   "metadata": {},
   "outputs": [
    {
     "name": "stdout",
     "output_type": "stream",
     "text": [
      "Model: \"sequential\"\n",
      "_________________________________________________________________\n",
      " Layer (type)                Output Shape              Param #   \n",
      "=================================================================\n",
      " embedding (Embedding)       (None, None, 16)          160000    \n",
      "                                                                 \n",
      " global_average_pooling1d (G  (None, 16)               0         \n",
      " lobalAveragePooling1D)                                          \n",
      "                                                                 \n",
      " dense (Dense)               (None, 16)                272       \n",
      "                                                                 \n",
      " dense_1 (Dense)             (None, 1)                 17        \n",
      "                                                                 \n",
      "=================================================================\n",
      "Total params: 160,289\n",
      "Trainable params: 160,289\n",
      "Non-trainable params: 0\n",
      "_________________________________________________________________\n"
     ]
    }
   ],
   "source": [
    "# Создание модели\n",
    "# Размер входных данных - количество слов, использованных в обзорах фильмов (10000 слов)\n",
    "vocab_size = 10000\n",
    "\n",
    "model = keras.Sequential()\n",
    "model.add(keras.layers.Embedding(vocab_size, 16, input_shape=(None,)))\n",
    "model.add(keras.layers.GlobalAveragePooling1D())\n",
    "model.add(keras.layers.Dense(16, activation=tf.nn.tanh))\n",
    "model.add(keras.layers.Dense(1, activation=tf.nn.sigmoid))\n",
    "model.summary()"
   ]
  },
  {
   "cell_type": "code",
   "execution_count": 6,
   "metadata": {},
   "outputs": [],
   "source": [
    "# Определение функций потерь и оптимизатора\n",
    "model.compile(optimizer='adam',\n",
    "loss='binary_crossentropy',\n",
    "metrics=['accuracy'])\n"
   ]
  },
  {
   "cell_type": "code",
   "execution_count": 7,
   "metadata": {},
   "outputs": [],
   "source": [
    "# Создание проверочного набора данных\n",
    "x_val = train_data[:10000]\n",
    "partial_x_train = train_data[10000:]\n",
    "\n",
    "y_val = train_labels[:10000]\n",
    "partial_y_train = train_labels[10000:]"
   ]
  },
  {
   "cell_type": "code",
   "execution_count": 8,
   "metadata": {},
   "outputs": [
    {
     "name": "stderr",
     "output_type": "stream",
     "text": [
      "2023-05-31 02:09:40.788572: W tensorflow/tsl/framework/cpu_allocator_impl.cc:83] Allocation of 15360000 exceeds 10% of free system memory.\n"
     ]
    },
    {
     "name": "stdout",
     "output_type": "stream",
     "text": [
      "Epoch 1/40\n",
      "30/30 [==============================] - 4s 60ms/step - loss: 0.6918 - accuracy: 0.5450 - val_loss: 0.6898 - val_accuracy: 0.6010\n",
      "Epoch 2/40\n",
      "30/30 [==============================] - 1s 30ms/step - loss: 0.6854 - accuracy: 0.6970 - val_loss: 0.6808 - val_accuracy: 0.7157\n",
      "Epoch 3/40\n",
      "30/30 [==============================] - 1s 31ms/step - loss: 0.6710 - accuracy: 0.7308 - val_loss: 0.6623 - val_accuracy: 0.7307\n",
      "Epoch 4/40\n",
      "30/30 [==============================] - 1s 30ms/step - loss: 0.6443 - accuracy: 0.7529 - val_loss: 0.6317 - val_accuracy: 0.7445\n",
      "Epoch 5/40\n",
      "30/30 [==============================] - 1s 31ms/step - loss: 0.6051 - accuracy: 0.7704 - val_loss: 0.5924 - val_accuracy: 0.7645\n",
      "Epoch 6/40\n",
      "30/30 [==============================] - 1s 34ms/step - loss: 0.5578 - accuracy: 0.7901 - val_loss: 0.5470 - val_accuracy: 0.7863\n",
      "Epoch 7/40\n",
      "30/30 [==============================] - 1s 32ms/step - loss: 0.5074 - accuracy: 0.8177 - val_loss: 0.5018 - val_accuracy: 0.8091\n",
      "Epoch 8/40\n",
      "30/30 [==============================] - 1s 40ms/step - loss: 0.4587 - accuracy: 0.8378 - val_loss: 0.4598 - val_accuracy: 0.8272\n",
      "Epoch 9/40\n",
      "30/30 [==============================] - 1s 35ms/step - loss: 0.4146 - accuracy: 0.8564 - val_loss: 0.4238 - val_accuracy: 0.8415\n",
      "Epoch 10/40\n",
      "30/30 [==============================] - 1s 29ms/step - loss: 0.3772 - accuracy: 0.8706 - val_loss: 0.3948 - val_accuracy: 0.8523\n",
      "Epoch 11/40\n",
      "30/30 [==============================] - 1s 28ms/step - loss: 0.3465 - accuracy: 0.8797 - val_loss: 0.3724 - val_accuracy: 0.8569\n",
      "Epoch 12/40\n",
      "30/30 [==============================] - 1s 28ms/step - loss: 0.3201 - accuracy: 0.8893 - val_loss: 0.3539 - val_accuracy: 0.8650\n",
      "Epoch 13/40\n",
      "30/30 [==============================] - 1s 29ms/step - loss: 0.2985 - accuracy: 0.8959 - val_loss: 0.3396 - val_accuracy: 0.8682\n",
      "Epoch 14/40\n",
      "30/30 [==============================] - 1s 35ms/step - loss: 0.2799 - accuracy: 0.9028 - val_loss: 0.3281 - val_accuracy: 0.8722\n",
      "Epoch 15/40\n",
      "30/30 [==============================] - 1s 39ms/step - loss: 0.2634 - accuracy: 0.9065 - val_loss: 0.3186 - val_accuracy: 0.8759\n",
      "Epoch 16/40\n",
      "30/30 [==============================] - 1s 42ms/step - loss: 0.2483 - accuracy: 0.9131 - val_loss: 0.3111 - val_accuracy: 0.8775\n",
      "Epoch 17/40\n",
      "30/30 [==============================] - 1s 35ms/step - loss: 0.2351 - accuracy: 0.9183 - val_loss: 0.3061 - val_accuracy: 0.8786\n",
      "Epoch 18/40\n",
      "30/30 [==============================] - 1s 32ms/step - loss: 0.2232 - accuracy: 0.9219 - val_loss: 0.3004 - val_accuracy: 0.8796\n",
      "Epoch 19/40\n",
      "30/30 [==============================] - 1s 41ms/step - loss: 0.2118 - accuracy: 0.9263 - val_loss: 0.2962 - val_accuracy: 0.8839\n",
      "Epoch 20/40\n",
      "30/30 [==============================] - 1s 36ms/step - loss: 0.2014 - accuracy: 0.9304 - val_loss: 0.2935 - val_accuracy: 0.8824\n",
      "Epoch 21/40\n",
      "30/30 [==============================] - 1s 35ms/step - loss: 0.1921 - accuracy: 0.9331 - val_loss: 0.2906 - val_accuracy: 0.8834\n",
      "Epoch 22/40\n",
      "30/30 [==============================] - 1s 35ms/step - loss: 0.1833 - accuracy: 0.9379 - val_loss: 0.2901 - val_accuracy: 0.8829\n",
      "Epoch 23/40\n",
      "30/30 [==============================] - 1s 34ms/step - loss: 0.1750 - accuracy: 0.9411 - val_loss: 0.2877 - val_accuracy: 0.8837\n",
      "Epoch 24/40\n",
      "30/30 [==============================] - 1s 30ms/step - loss: 0.1667 - accuracy: 0.9459 - val_loss: 0.2892 - val_accuracy: 0.8822\n",
      "Epoch 25/40\n",
      "30/30 [==============================] - 1s 31ms/step - loss: 0.1596 - accuracy: 0.9493 - val_loss: 0.2871 - val_accuracy: 0.8851\n",
      "Epoch 26/40\n",
      "30/30 [==============================] - 1s 33ms/step - loss: 0.1523 - accuracy: 0.9523 - val_loss: 0.2877 - val_accuracy: 0.8846\n",
      "Epoch 27/40\n",
      "30/30 [==============================] - 1s 29ms/step - loss: 0.1456 - accuracy: 0.9548 - val_loss: 0.2879 - val_accuracy: 0.8850\n",
      "Epoch 28/40\n",
      "30/30 [==============================] - 1s 29ms/step - loss: 0.1395 - accuracy: 0.9583 - val_loss: 0.2891 - val_accuracy: 0.8863\n",
      "Epoch 29/40\n",
      "30/30 [==============================] - 1s 32ms/step - loss: 0.1333 - accuracy: 0.9601 - val_loss: 0.2912 - val_accuracy: 0.8861\n",
      "Epoch 30/40\n",
      "30/30 [==============================] - 1s 29ms/step - loss: 0.1277 - accuracy: 0.9621 - val_loss: 0.2943 - val_accuracy: 0.8851\n",
      "Epoch 31/40\n",
      "30/30 [==============================] - 1s 29ms/step - loss: 0.1225 - accuracy: 0.9641 - val_loss: 0.2947 - val_accuracy: 0.8856\n",
      "Epoch 32/40\n",
      "30/30 [==============================] - 1s 29ms/step - loss: 0.1172 - accuracy: 0.9663 - val_loss: 0.2970 - val_accuracy: 0.8866\n",
      "Epoch 33/40\n",
      "30/30 [==============================] - 1s 30ms/step - loss: 0.1119 - accuracy: 0.9679 - val_loss: 0.2996 - val_accuracy: 0.8849\n",
      "Epoch 34/40\n",
      "30/30 [==============================] - 1s 29ms/step - loss: 0.1072 - accuracy: 0.9700 - val_loss: 0.3044 - val_accuracy: 0.8849\n",
      "Epoch 35/40\n",
      "30/30 [==============================] - 1s 32ms/step - loss: 0.1029 - accuracy: 0.9713 - val_loss: 0.3090 - val_accuracy: 0.8825\n",
      "Epoch 36/40\n",
      "30/30 [==============================] - 1s 32ms/step - loss: 0.0983 - accuracy: 0.9727 - val_loss: 0.3097 - val_accuracy: 0.8840\n",
      "Epoch 37/40\n",
      "30/30 [==============================] - 1s 36ms/step - loss: 0.0939 - accuracy: 0.9746 - val_loss: 0.3133 - val_accuracy: 0.8832\n",
      "Epoch 38/40\n",
      "30/30 [==============================] - 1s 30ms/step - loss: 0.0902 - accuracy: 0.9761 - val_loss: 0.3177 - val_accuracy: 0.8825\n",
      "Epoch 39/40\n",
      "30/30 [==============================] - 1s 27ms/step - loss: 0.0863 - accuracy: 0.9775 - val_loss: 0.3231 - val_accuracy: 0.8813\n",
      "Epoch 40/40\n",
      "30/30 [==============================] - 1s 28ms/step - loss: 0.0828 - accuracy: 0.9785 - val_loss: 0.3267 - val_accuracy: 0.8818\n"
     ]
    }
   ],
   "source": [
    "# Обучение модели\n",
    "history = model.fit(partial_x_train,\n",
    "partial_y_train,\n",
    "epochs=40,\n",
    "batch_size=512,\n",
    "validation_data=(x_val, y_val),\n",
    "verbose=1)"
   ]
  },
  {
   "cell_type": "code",
   "execution_count": 9,
   "metadata": {},
   "outputs": [
    {
     "data": {
      "text/plain": [
       "dict_keys(['loss', 'accuracy', 'val_loss', 'val_accuracy'])"
      ]
     },
     "execution_count": 9,
     "metadata": {},
     "output_type": "execute_result"
    }
   ],
   "source": [
    "history_dict = history.history\n",
    "history_dict.keys()"
   ]
  },
  {
   "cell_type": "code",
   "execution_count": 10,
   "metadata": {},
   "outputs": [
    {
     "data": {
      "image/png": "[encoded data removed]",
      "text/plain": [
       "<Figure size 640x480 with 1 Axes>"
      ]
     },
     "metadata": {},
     "output_type": "display_data"
    }
   ],
   "source": [
    "import matplotlib.pyplot as plt\n",
    "\n",
    "acc = history.history['accuracy']\n",
    "val_acc = history.history['val_accuracy']\n",
    "loss = history.history['loss']\n",
    "val_loss = history.history['val_loss']\n",
    "\n",
    "epochs = range(1, len(acc) + 1)\n",
    "\n",
    "# \"bo\" означает \"blue dot\", синяя точка\n",
    "plt.plot(epochs, loss, 'bo', label='Потери обучения')\n",
    "# \"b\" означает \"solid blue line\", непрерывная синяя линия\n",
    "plt.plot(epochs, val_loss, 'b', label='Потери проверки')\n",
    "plt.title('Потери во время обучения и проверки')\n",
    "plt.xlabel('Эпохи')\n",
    "plt.ylabel('Потери')\n",
    "plt.legend()\n",
    "\n",
    "plt.show()"
   ]
  },
  {
   "cell_type": "code",
   "execution_count": 11,
   "metadata": {},
   "outputs": [
    {
     "data": {
      "text/plain": [
       "<matplotlib.legend.Legend at 0x7f86fbfd9180>"
      ]
     },
     "execution_count": 11,
     "metadata": {},
     "output_type": "execute_result"
    },
    {
     "data": {
      "image/png": "[encoded data removed]",
      "text/plain": [
       "<Figure size 640x480 with 1 Axes>"
      ]
     },
     "metadata": {},
     "output_type": "display_data"
    }
   ],
   "source": [
    "plt.clf() \n",
    "# Очистим график\n",
    "\n",
    "plt.plot(epochs, acc, 'bo', label='Точность обучения')\n",
    "plt.plot(epochs, val_acc, 'b', label='Точность проверки')\n",
    "plt.title('Точность во время обучения и проверки')\n",
    "plt.xlabel('Эпохи')\n",
    "plt.ylabel('Точность')\n",
    "plt.legend()"
   ]
  },
  {
   "cell_type": "code",
   "execution_count": 12,
   "metadata": {},
   "outputs": [
    {
     "name": "stdout",
     "output_type": "stream",
     "text": [
      " 18/782 [..............................] - ETA: 2s - loss: 0.3331 - accuracy: 0.8663 "
     ]
    },
    {
     "name": "stderr",
     "output_type": "stream",
     "text": [
      "2023-05-31 02:10:26.498742: W tensorflow/tsl/framework/cpu_allocator_impl.cc:83] Allocation of 25600000 exceeds 10% of free system memory.\n"
     ]
    },
    {
     "name": "stdout",
     "output_type": "stream",
     "text": [
      "782/782 [==============================] - 2s 3ms/step - loss: 0.3491 - accuracy: 0.8692\n",
      "[0.34914833307266235, 0.8691999912261963]\n"
     ]
    }
   ],
   "source": [
    "# Оценка точности модели\n",
    "results = model.evaluate(test_data, test_labels)\n",
    "print(results)"
   ]
  },
  {
   "cell_type": "code",
   "execution_count": 13,
   "metadata": {},
   "outputs": [
    {
     "name": "stderr",
     "output_type": "stream",
     "text": [
      "2023-05-31 02:10:29.346386: W tensorflow/tsl/framework/cpu_allocator_impl.cc:83] Allocation of 25600000 exceeds 10% of free system memory.\n"
     ]
    },
    {
     "name": "stdout",
     "output_type": "stream",
     "text": [
      "782/782 [==============================] - 2s 3ms/step - loss: 0.3491 - accuracy: 0.8692\n",
      "Восстановленная модель, точность: 86.92%\n"
     ]
    }
   ],
   "source": [
    "# Сохранение модели\n",
    "model.save('model_Dop4_class.h5')\n",
    "# Создание модели из сохраненного файла\n",
    "new_model = keras.models.load_model('model_Dop4_class.h5')\n",
    "# Проверим заданную модель из файла\n",
    "loss, acc = new_model.evaluate(test_data, test_labels)\n",
    "print(\"Восстановленная модель, точность: {:5.2f}%\".format(100*acc))"
   ]
  },
  {
   "cell_type": "code",
   "execution_count": 14,
   "metadata": {},
   "outputs": [
    {
     "name": "stderr",
     "output_type": "stream",
     "text": [
      "2023-05-31 02:10:31.848221: W tensorflow/tsl/framework/cpu_allocator_impl.cc:83] Allocation of 25600000 exceeds 10% of free system memory.\n"
     ]
    },
    {
     "name": "stdout",
     "output_type": "stream",
     "text": [
      "782/782 [==============================] - 2s 3ms/step - loss: 0.3491 - accuracy: 0.8692\n",
      "Изначальная модель, точность: 86.92%\n"
     ]
    }
   ],
   "source": [
    "# Сравним более наглядно точность старой модели относительно новой\n",
    "loss , acc = model.evaluate(test_data, test_labels)\n",
    "print(\"Изначальная модель, точность: {:5.2f}%\".format(100*acc))"
   ]
  },
  {
   "cell_type": "code",
   "execution_count": null,
   "metadata": {},
   "outputs": [],
   "source": []
  }
 ],
 "metadata": {
  "kernelspec": {
   "display_name": "Python 3",
   "language": "python",
   "name": "python3"
  },
  "language_info": {
   "codemirror_mode": {
    "name": "ipython",
    "version": 3
   },
   "file_extension": ".py",
   "mimetype": "text/x-python",
   "name": "python",
   "nbconvert_exporter": "python",
   "pygments_lexer": "ipython3",
   "version": "3.10.6"
  },
  "orig_nbformat": 4
 },
 "nbformat": 4,
 "nbformat_minor": 2
}
