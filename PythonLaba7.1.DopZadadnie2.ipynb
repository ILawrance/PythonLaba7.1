{
 "cells": [
  {
   "cell_type": "code",
   "execution_count": 1,
   "metadata": {},
   "outputs": [
    {
     "name": "stderr",
     "output_type": "stream",
     "text": [
      "2023-05-31 01:51:09.885749: I tensorflow/tsl/cuda/cudart_stub.cc:28] Could not find cuda drivers on your machine, GPU will not be used.\n",
      "2023-05-31 01:51:09.961804: I tensorflow/tsl/cuda/cudart_stub.cc:28] Could not find cuda drivers on your machine, GPU will not be used.\n",
      "2023-05-31 01:51:09.964965: I tensorflow/core/platform/cpu_feature_guard.cc:182] This TensorFlow binary is optimized to use available CPU instructions in performance-critical operations.\n",
      "To enable the following instructions: AVX2, in other operations, rebuild TensorFlow with the appropriate compiler flags.\n",
      "2023-05-31 01:51:11.331339: W tensorflow/compiler/tf2tensorrt/utils/py_utils.cc:38] TF-TRT Warning: Could not find TensorRT\n"
     ]
    },
    {
     "name": "stdout",
     "output_type": "stream",
     "text": [
      "2.12.0\n"
     ]
    }
   ],
   "source": [
    "# Доп. задание: Слой Dense с 64 нейронами\n",
    "import tensorflow as tf\n",
    "from tensorflow import keras\n",
    "import numpy as np\n",
    "print(tf.__version__)"
   ]
  },
  {
   "cell_type": "code",
   "execution_count": 2,
   "metadata": {},
   "outputs": [],
   "source": [
    "imdb = keras.datasets.imdb\n",
    "(train_data, train_labels), (test_data, test_labels) = imdb.load_data(num_words=10000)"
   ]
  },
  {
   "cell_type": "code",
   "execution_count": 6,
   "metadata": {},
   "outputs": [],
   "source": [
    "# Назначим словарь, который будет отображать слова из массива данных\n",
    "word_index = imdb.get_word_index()\n",
    "\n",
    "# Зарезервируем первые несколько значений\n",
    "word_index = {k:(v+3) for k,v in word_index.items()}\n",
    "word_index[\"<PAD>\"] = 0\n",
    "word_index[\"<START>\"] = 1\n",
    "word_index[\"<UNK>\"] = 2\n",
    "# Вместо редких слов, не вошедших в набор из 10000, будет указано UNK\n",
    "word_index[\"<UNUSED>\"] = 3\n",
    "\n",
    "reverse_word_index = dict([(value, key) for (key, value) in word_index.items()])\n",
    "\n",
    "def decode_review(text):\n",
    "    return ' '.join([reverse_word_index.get(i, '?') for i in text])"
   ]
  },
  {
   "cell_type": "code",
   "execution_count": 8,
   "metadata": {},
   "outputs": [
    {
     "name": "stdout",
     "output_type": "stream",
     "text": [
      "256 256\n"
     ]
    }
   ],
   "source": [
    "# Подготовка данных\n",
    "train_data = keras.preprocessing.sequence.pad_sequences(train_data,\n",
    "value=word_index[\"<PAD>\"],\n",
    "padding='post',\n",
    "maxlen=256)\n",
    "\n",
    "test_data = keras.preprocessing.sequence.pad_sequences(test_data, value=word_index[\"<PAD>\"],\n",
    "padding='post',\n",
    "maxlen=256)\n",
    "\n",
    "print(len(train_data[0]), len(train_data[1]))"
   ]
  },
  {
   "cell_type": "code",
   "execution_count": 10,
   "metadata": {},
   "outputs": [
    {
     "name": "stdout",
     "output_type": "stream",
     "text": [
      "Model: \"sequential\"\n",
      "_________________________________________________________________\n",
      " Layer (type)                Output Shape              Param #   \n",
      "=================================================================\n",
      " embedding (Embedding)       (None, None, 16)          160000    \n",
      "                                                                 \n",
      " global_average_pooling1d (G  (None, 16)               0         \n",
      " lobalAveragePooling1D)                                          \n",
      "                                                                 \n",
      " dense (Dense)               (None, 64)                1088      \n",
      "                                                                 \n",
      " dense_1 (Dense)             (None, 1)                 65        \n",
      "                                                                 \n",
      "=================================================================\n",
      "Total params: 161,153\n",
      "Trainable params: 161,153\n",
      "Non-trainable params: 0\n",
      "_________________________________________________________________\n"
     ]
    }
   ],
   "source": [
    "# Создание модели\n",
    "# Размер входных данных - количество слов, использованных в обзорах фильмов (10000 слов)\n",
    "vocab_size = 10000\n",
    "\n",
    "model = keras.Sequential()\n",
    "model.add(keras.layers.Embedding(vocab_size, 16, input_shape=(None,)))\n",
    "model.add(keras.layers.GlobalAveragePooling1D())\n",
    "model.add(keras.layers.Dense(64, activation=tf.nn.relu))\n",
    "model.add(keras.layers.Dense(1, activation=tf.nn.sigmoid))\n",
    "model.summary()"
   ]
  },
  {
   "cell_type": "code",
   "execution_count": 11,
   "metadata": {},
   "outputs": [],
   "source": [
    "# Определение функций потерь и оптимизатора\n",
    "model.compile(optimizer='adam',\n",
    "loss='binary_crossentropy',\n",
    "metrics=['accuracy'])\n"
   ]
  },
  {
   "cell_type": "code",
   "execution_count": 12,
   "metadata": {},
   "outputs": [],
   "source": [
    "# Создание проверочного набора данных\n",
    "x_val = train_data[:10000]\n",
    "partial_x_train = train_data[10000:]\n",
    "\n",
    "y_val = train_labels[:10000]\n",
    "partial_y_train = train_labels[10000:]"
   ]
  },
  {
   "cell_type": "code",
   "execution_count": 13,
   "metadata": {},
   "outputs": [
    {
     "name": "stderr",
     "output_type": "stream",
     "text": [
      "2023-05-31 01:51:19.772036: W tensorflow/tsl/framework/cpu_allocator_impl.cc:83] Allocation of 15360000 exceeds 10% of free system memory.\n"
     ]
    },
    {
     "name": "stdout",
     "output_type": "stream",
     "text": [
      "Epoch 1/40\n",
      "30/30 [==============================] - 2s 44ms/step - loss: 0.6924 - accuracy: 0.5413 - val_loss: 0.6907 - val_accuracy: 0.6593\n",
      "Epoch 2/40\n",
      "30/30 [==============================] - 1s 39ms/step - loss: 0.6863 - accuracy: 0.6935 - val_loss: 0.6798 - val_accuracy: 0.7370\n",
      "Epoch 3/40\n",
      "30/30 [==============================] - 1s 41ms/step - loss: 0.6651 - accuracy: 0.7557 - val_loss: 0.6491 - val_accuracy: 0.7618\n",
      "Epoch 4/40\n",
      "30/30 [==============================] - 1s 46ms/step - loss: 0.6185 - accuracy: 0.7757 - val_loss: 0.5931 - val_accuracy: 0.7815\n",
      "Epoch 5/40\n",
      "30/30 [==============================] - 1s 48ms/step - loss: 0.5492 - accuracy: 0.8107 - val_loss: 0.5253 - val_accuracy: 0.8092\n",
      "Epoch 6/40\n",
      "30/30 [==============================] - 2s 57ms/step - loss: 0.4742 - accuracy: 0.8409 - val_loss: 0.4597 - val_accuracy: 0.8294\n",
      "Epoch 7/40\n",
      "30/30 [==============================] - 2s 55ms/step - loss: 0.4072 - accuracy: 0.8621 - val_loss: 0.4073 - val_accuracy: 0.8503\n",
      "Epoch 8/40\n",
      "30/30 [==============================] - 2s 52ms/step - loss: 0.3548 - accuracy: 0.8783 - val_loss: 0.3702 - val_accuracy: 0.8588\n",
      "Epoch 9/40\n",
      "30/30 [==============================] - 2s 55ms/step - loss: 0.3159 - accuracy: 0.8900 - val_loss: 0.3452 - val_accuracy: 0.8670\n",
      "Epoch 10/40\n",
      "30/30 [==============================] - 1s 44ms/step - loss: 0.2854 - accuracy: 0.9001 - val_loss: 0.3266 - val_accuracy: 0.8737\n",
      "Epoch 11/40\n",
      "30/30 [==============================] - 1s 49ms/step - loss: 0.2614 - accuracy: 0.9065 - val_loss: 0.3140 - val_accuracy: 0.8761\n",
      "Epoch 12/40\n",
      "30/30 [==============================] - 1s 47ms/step - loss: 0.2407 - accuracy: 0.9139 - val_loss: 0.3044 - val_accuracy: 0.8795\n",
      "Epoch 13/40\n",
      "30/30 [==============================] - 2s 53ms/step - loss: 0.2231 - accuracy: 0.9207 - val_loss: 0.2989 - val_accuracy: 0.8802\n",
      "Epoch 14/40\n",
      "30/30 [==============================] - 1s 48ms/step - loss: 0.2072 - accuracy: 0.9267 - val_loss: 0.2924 - val_accuracy: 0.8829\n",
      "Epoch 15/40\n",
      "30/30 [==============================] - 2s 52ms/step - loss: 0.1934 - accuracy: 0.9327 - val_loss: 0.2899 - val_accuracy: 0.8834\n",
      "Epoch 16/40\n",
      "30/30 [==============================] - 2s 52ms/step - loss: 0.1820 - accuracy: 0.9383 - val_loss: 0.2873 - val_accuracy: 0.8849\n",
      "Epoch 17/40\n",
      "30/30 [==============================] - 2s 51ms/step - loss: 0.1697 - accuracy: 0.9435 - val_loss: 0.2858 - val_accuracy: 0.8857\n",
      "Epoch 18/40\n",
      "30/30 [==============================] - 2s 53ms/step - loss: 0.1594 - accuracy: 0.9478 - val_loss: 0.2863 - val_accuracy: 0.8855\n",
      "Epoch 19/40\n",
      "30/30 [==============================] - 1s 49ms/step - loss: 0.1507 - accuracy: 0.9521 - val_loss: 0.2869 - val_accuracy: 0.8865\n",
      "Epoch 20/40\n",
      "30/30 [==============================] - 1s 43ms/step - loss: 0.1415 - accuracy: 0.9558 - val_loss: 0.2884 - val_accuracy: 0.8851\n",
      "Epoch 21/40\n",
      "30/30 [==============================] - 1s 44ms/step - loss: 0.1343 - accuracy: 0.9587 - val_loss: 0.2916 - val_accuracy: 0.8852\n",
      "Epoch 22/40\n",
      "30/30 [==============================] - 1s 44ms/step - loss: 0.1263 - accuracy: 0.9616 - val_loss: 0.2938 - val_accuracy: 0.8864\n",
      "Epoch 23/40\n",
      "30/30 [==============================] - 1s 45ms/step - loss: 0.1184 - accuracy: 0.9647 - val_loss: 0.2964 - val_accuracy: 0.8847\n",
      "Epoch 24/40\n",
      "30/30 [==============================] - 1s 43ms/step - loss: 0.1117 - accuracy: 0.9679 - val_loss: 0.2998 - val_accuracy: 0.8848\n",
      "Epoch 25/40\n",
      "30/30 [==============================] - 1s 45ms/step - loss: 0.1056 - accuracy: 0.9707 - val_loss: 0.3040 - val_accuracy: 0.8849\n",
      "Epoch 26/40\n",
      "30/30 [==============================] - 1s 42ms/step - loss: 0.0998 - accuracy: 0.9727 - val_loss: 0.3085 - val_accuracy: 0.8827\n",
      "Epoch 27/40\n",
      "30/30 [==============================] - 1s 45ms/step - loss: 0.0941 - accuracy: 0.9753 - val_loss: 0.3127 - val_accuracy: 0.8835\n",
      "Epoch 28/40\n",
      "30/30 [==============================] - 1s 40ms/step - loss: 0.0889 - accuracy: 0.9771 - val_loss: 0.3183 - val_accuracy: 0.8831\n",
      "Epoch 29/40\n",
      "30/30 [==============================] - 1s 42ms/step - loss: 0.0840 - accuracy: 0.9789 - val_loss: 0.3242 - val_accuracy: 0.8807\n",
      "Epoch 30/40\n",
      "30/30 [==============================] - 1s 47ms/step - loss: 0.0794 - accuracy: 0.9811 - val_loss: 0.3298 - val_accuracy: 0.8805\n",
      "Epoch 31/40\n",
      "30/30 [==============================] - 1s 41ms/step - loss: 0.0752 - accuracy: 0.9825 - val_loss: 0.3375 - val_accuracy: 0.8787\n",
      "Epoch 32/40\n",
      "30/30 [==============================] - 1s 42ms/step - loss: 0.0709 - accuracy: 0.9847 - val_loss: 0.3421 - val_accuracy: 0.8796\n",
      "Epoch 33/40\n",
      "30/30 [==============================] - 1s 44ms/step - loss: 0.0673 - accuracy: 0.9853 - val_loss: 0.3531 - val_accuracy: 0.8751\n",
      "Epoch 34/40\n",
      "30/30 [==============================] - 1s 48ms/step - loss: 0.0636 - accuracy: 0.9870 - val_loss: 0.3557 - val_accuracy: 0.8773\n",
      "Epoch 35/40\n",
      "30/30 [==============================] - 2s 61ms/step - loss: 0.0599 - accuracy: 0.9883 - val_loss: 0.3634 - val_accuracy: 0.8761\n",
      "Epoch 36/40\n",
      "30/30 [==============================] - 1s 42ms/step - loss: 0.0565 - accuracy: 0.9893 - val_loss: 0.3705 - val_accuracy: 0.8755\n",
      "Epoch 37/40\n",
      "30/30 [==============================] - 1s 45ms/step - loss: 0.0535 - accuracy: 0.9902 - val_loss: 0.3756 - val_accuracy: 0.8753\n",
      "Epoch 38/40\n",
      "30/30 [==============================] - 1s 43ms/step - loss: 0.0505 - accuracy: 0.9912 - val_loss: 0.3829 - val_accuracy: 0.8761\n",
      "Epoch 39/40\n",
      "30/30 [==============================] - 1s 42ms/step - loss: 0.0478 - accuracy: 0.9916 - val_loss: 0.3913 - val_accuracy: 0.8744\n",
      "Epoch 40/40\n",
      "30/30 [==============================] - 1s 40ms/step - loss: 0.0450 - accuracy: 0.9926 - val_loss: 0.3978 - val_accuracy: 0.8764\n"
     ]
    }
   ],
   "source": [
    "# Обучение модели\n",
    "history = model.fit(partial_x_train,\n",
    "partial_y_train,\n",
    "epochs=40,\n",
    "batch_size=512,\n",
    "validation_data=(x_val, y_val),\n",
    "verbose=1)"
   ]
  },
  {
   "cell_type": "code",
   "execution_count": 14,
   "metadata": {},
   "outputs": [
    {
     "data": {
      "text/plain": [
       "dict_keys(['loss', 'accuracy', 'val_loss', 'val_accuracy'])"
      ]
     },
     "execution_count": 14,
     "metadata": {},
     "output_type": "execute_result"
    }
   ],
   "source": [
    "history_dict = history.history\n",
    "history_dict.keys()"
   ]
  },
  {
   "cell_type": "code",
   "execution_count": 15,
   "metadata": {},
   "outputs": [
    {
     "data": {
      "image/png": "[encoded data removed]",
      "text/plain": [
       "<Figure size 640x480 with 1 Axes>"
      ]
     },
     "metadata": {},
     "output_type": "display_data"
    }
   ],
   "source": [
    "import matplotlib.pyplot as plt\n",
    "\n",
    "acc = history.history['accuracy']\n",
    "val_acc = history.history['val_accuracy']\n",
    "loss = history.history['loss']\n",
    "val_loss = history.history['val_loss']\n",
    "\n",
    "epochs = range(1, len(acc) + 1)\n",
    "\n",
    "# \"bo\" означает \"blue dot\", синяя точка\n",
    "plt.plot(epochs, loss, 'bo', label='Потери обучения')\n",
    "# \"b\" означает \"solid blue line\", непрерывная синяя линия\n",
    "plt.plot(epochs, val_loss, 'b', label='Потери проверки')\n",
    "plt.title('Потери во время обучения и проверки')\n",
    "plt.xlabel('Эпохи')\n",
    "plt.ylabel('Потери')\n",
    "plt.legend()\n",
    "\n",
    "plt.show()"
   ]
  },
  {
   "cell_type": "code",
   "execution_count": 16,
   "metadata": {},
   "outputs": [
    {
     "data": {
      "text/plain": [
       "<matplotlib.legend.Legend at 0x7f236c790c10>"
      ]
     },
     "execution_count": 16,
     "metadata": {},
     "output_type": "execute_result"
    },
    {
     "data": {
      "image/png": "[encoded data removed]",
      "text/plain": [
       "<Figure size 640x480 with 1 Axes>"
      ]
     },
     "metadata": {},
     "output_type": "display_data"
    }
   ],
   "source": [
    "plt.clf() \n",
    "# Очистим график\n",
    "\n",
    "plt.plot(epochs, acc, 'bo', label='Точность обучения')\n",
    "plt.plot(epochs, val_acc, 'b', label='Точность проверки')\n",
    "plt.title('Точность во время обучения и проверки')\n",
    "plt.xlabel('Эпохи')\n",
    "plt.ylabel('Точность')\n",
    "plt.legend()"
   ]
  },
  {
   "cell_type": "code",
   "execution_count": 17,
   "metadata": {},
   "outputs": [
    {
     "name": "stderr",
     "output_type": "stream",
     "text": [
      "2023-05-31 01:52:18.968546: W tensorflow/tsl/framework/cpu_allocator_impl.cc:83] Allocation of 25600000 exceeds 10% of free system memory.\n"
     ]
    },
    {
     "name": "stdout",
     "output_type": "stream",
     "text": [
      "782/782 [==============================] - 2s 3ms/step - loss: 0.4244 - accuracy: 0.8627\n",
      "[0.42443209886550903, 0.8627200126647949]\n"
     ]
    }
   ],
   "source": [
    "# Оценка точности модели\n",
    "results = model.evaluate(test_data, test_labels)\n",
    "print(results)"
   ]
  },
  {
   "cell_type": "code",
   "execution_count": 18,
   "metadata": {},
   "outputs": [
    {
     "name": "stdout",
     "output_type": "stream",
     "text": [
      "  1/782 [..............................] - ETA: 1:57 - loss: 0.4190 - accuracy: 0.8750"
     ]
    },
    {
     "name": "stderr",
     "output_type": "stream",
     "text": [
      "2023-05-31 01:52:21.903207: W tensorflow/tsl/framework/cpu_allocator_impl.cc:83] Allocation of 25600000 exceeds 10% of free system memory.\n"
     ]
    },
    {
     "name": "stdout",
     "output_type": "stream",
     "text": [
      "782/782 [==============================] - 3s 3ms/step - loss: 0.4244 - accuracy: 0.8627\n",
      "Восстановленная модель, точность: 86.27%\n"
     ]
    }
   ],
   "source": [
    "# Сохранение модели\n",
    "model.save('model_Dop2_class.h5')\n",
    "# Создание модели из сохраненного файла\n",
    "new_model = keras.models.load_model('model_Dop2_class.h5')\n",
    "# Проверим заданную модель из файла\n",
    "loss, acc = new_model.evaluate(test_data, test_labels)\n",
    "print(\"Восстановленная модель, точность: {:5.2f}%\".format(100*acc))"
   ]
  },
  {
   "cell_type": "code",
   "execution_count": 19,
   "metadata": {},
   "outputs": [
    {
     "name": "stdout",
     "output_type": "stream",
     "text": [
      " 19/782 [..............................] - ETA: 2s - loss: 0.4101 - accuracy: 0.8536 "
     ]
    },
    {
     "name": "stderr",
     "output_type": "stream",
     "text": [
      "2023-05-31 01:52:24.610013: W tensorflow/tsl/framework/cpu_allocator_impl.cc:83] Allocation of 25600000 exceeds 10% of free system memory.\n"
     ]
    },
    {
     "name": "stdout",
     "output_type": "stream",
     "text": [
      "782/782 [==============================] - 2s 3ms/step - loss: 0.4244 - accuracy: 0.8627\n",
      "Изначальная модель, точность: 86.27%\n"
     ]
    }
   ],
   "source": [
    "# Сравним более наглядно точность старой модели относительно новой\n",
    "loss , acc = model.evaluate(test_data, test_labels)\n",
    "print(\"Изначальная модель, точность: {:5.2f}%\".format(100*acc))"
   ]
  },
  {
   "cell_type": "code",
   "execution_count": null,
   "metadata": {},
   "outputs": [],
   "source": []
  }
 ],
 "metadata": {
  "kernelspec": {
   "display_name": "Python 3",
   "language": "python",
   "name": "python3"
  },
  "language_info": {
   "codemirror_mode": {
    "name": "ipython",
    "version": 3
   },
   "file_extension": ".py",
   "mimetype": "text/x-python",
   "name": "python",
   "nbconvert_exporter": "python",
   "pygments_lexer": "ipython3",
   "version": "3.10.6"
  },
  "orig_nbformat": 4
 },
 "nbformat": 4,
 "nbformat_minor": 2
}
