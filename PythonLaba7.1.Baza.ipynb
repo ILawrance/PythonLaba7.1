{
 "cells": [
  {
   "cell_type": "code",
   "execution_count": 30,
   "metadata": {},
   "outputs": [
    {
     "name": "stdout",
     "output_type": "stream",
     "text": [
      "2.12.0\n"
     ]
    }
   ],
   "source": [
    "import tensorflow as tf\n",
    "from tensorflow import keras\n",
    "import numpy as np\n",
    "print(tf.__version__)"
   ]
  },
  {
   "cell_type": "code",
   "execution_count": 31,
   "metadata": {},
   "outputs": [],
   "source": [
    "imdb = keras.datasets.imdb\n",
    "(train_data, train_labels), (test_data, test_labels) = imdb.load_data(num_words=10000)"
   ]
  },
  {
   "cell_type": "code",
   "execution_count": 32,
   "metadata": {},
   "outputs": [
    {
     "name": "stdout",
     "output_type": "stream",
     "text": [
      "Обучающих записей: 25000, меток: 25000\n"
     ]
    }
   ],
   "source": [
    "print(\"Обучающих записей: {}, меток: {}\".format(len(train_data),len(train_labels)))"
   ]
  },
  {
   "cell_type": "code",
   "execution_count": 33,
   "metadata": {},
   "outputs": [
    {
     "name": "stdout",
     "output_type": "stream",
     "text": [
      "[1, 14, 22, 16, 43, 530, 973, 1622, 1385, 65, 458, 4468, 66, 3941, 4, 173, 36, 256, 5, 25, 100, 43, 838, 112, 50, 670, 2, 9, 35, 480, 284, 5, 150, 4, 172, 112, 167, 2, 336, 385, 39, 4, 172, 4536, 1111, 17, 546, 38, 13, 447, 4, 192, 50, 16, 6, 147, 2025, 19, 14, 22, 4, 1920, 4613, 469, 4, 22, 71, 87, 12, 16, 43, 530, 38, 76, 15, 13, 1247, 4, 22, 17, 515, 17, 12, 16, 626, 18, 2, 5, 62, 386, 12, 8, 316, 8, 106, 5, 4, 2223, 5244, 16, 480, 66, 3785, 33, 4, 130, 12, 16, 38, 619, 5, 25, 124, 51, 36, 135, 48, 25, 1415, 33, 6, 22, 12, 215, 28, 77, 52, 5, 14, 407, 16, 82, 2, 8, 4, 107, 117, 5952, 15, 256, 4, 2, 7, 3766, 5, 723, 36, 71, 43, 530, 476, 26, 400, 317, 46, 7, 4, 2, 1029, 13, 104, 88, 4, 381, 15, 297, 98, 32, 2071, 56, 26, 141, 6, 194, 7486, 18, 4, 226, 22, 21, 134, 476, 26, 480, 5, 144, 30, 5535, 18, 51, 36, 28, 224, 92, 25, 104, 4, 226, 65, 16, 38, 1334, 88, 12, 16, 283, 5, 16, 4472, 113, 103, 32, 15, 16, 5345, 19, 178, 32]\n"
     ]
    }
   ],
   "source": [
    "print(train_data[0])"
   ]
  },
  {
   "cell_type": "code",
   "execution_count": 34,
   "metadata": {},
   "outputs": [
    {
     "name": "stdout",
     "output_type": "stream",
     "text": [
      "218 189\n"
     ]
    }
   ],
   "source": [
    "print(len(train_data[0]), len(train_data[1]))"
   ]
  },
  {
   "cell_type": "code",
   "execution_count": 35,
   "metadata": {},
   "outputs": [],
   "source": [
    "# Назначим словарь, который будет отображать слова из массива данных\n",
    "word_index = imdb.get_word_index()\n",
    "\n",
    "# Зарезервируем первые несколько значений\n",
    "word_index = {k:(v+3) for k,v in word_index.items()}\n",
    "word_index[\"<PAD>\"] = 0\n",
    "word_index[\"<START>\"] = 1\n",
    "word_index[\"<UNK>\"] = 2\n",
    "# Вместо редких слов, не вошедших в набор из 10000, будет указано UNK\n",
    "word_index[\"<UNUSED>\"] = 3\n",
    "\n",
    "reverse_word_index = dict([(value, key) for (key, value) in word_index.items()])\n",
    "\n",
    "def decode_review(text):\n",
    "    return ' '.join([reverse_word_index.get(i, '?') for i in text])"
   ]
  },
  {
   "cell_type": "code",
   "execution_count": 38,
   "metadata": {},
   "outputs": [
    {
     "data": {
      "text/plain": [
       "\"<START> this film was just brilliant casting location scenery story direction everyone's really suited the part they played and you could just imagine being there robert <UNK> is an amazing actor and now the same being director <UNK> father came from the same scottish island as myself so i loved the fact there was a real connection with this film the witty remarks throughout the film were great it was just brilliant so much that i bought the film as soon as it was released for <UNK> and would recommend it to everyone to watch and the fly fishing was amazing really cried at the end it was so sad and you know what they say if you cry at a film it must have been good and this definitely was also <UNK> to the two little boy's that played the <UNK> of norman and paul they were just brilliant children are often left out of the <UNK> list i think because the stars that play them all grown up are such a big profile for the whole film but these children are amazing and should be praised for what they have done don't you think the whole story was so lovely because it was true and was someone's life after all that was shared with us all\""
      ]
     },
     "execution_count": 38,
     "metadata": {},
     "output_type": "execute_result"
    }
   ],
   "source": [
    "decode_review(train_data[0])"
   ]
  },
  {
   "cell_type": "code",
   "execution_count": 40,
   "metadata": {},
   "outputs": [
    {
     "name": "stdout",
     "output_type": "stream",
     "text": [
      "256 256\n"
     ]
    }
   ],
   "source": [
    "# Подготовка данных\n",
    "train_data = keras.preprocessing.sequence.pad_sequences(train_data,\n",
    "value=word_index[\"<PAD>\"],\n",
    "padding='post',\n",
    "maxlen=256)\n",
    "\n",
    "test_data = keras.preprocessing.sequence.pad_sequences(test_data, value=word_index[\"<PAD>\"],\n",
    "padding='post',\n",
    "maxlen=256)\n",
    "\n",
    "print(len(train_data[0]), len(train_data[1]))"
   ]
  },
  {
   "cell_type": "code",
   "execution_count": 41,
   "metadata": {},
   "outputs": [
    {
     "name": "stdout",
     "output_type": "stream",
     "text": [
      "[   1   14   22   16   43  530  973 1622 1385   65  458 4468   66 3941\n",
      "    4  173   36  256    5   25  100   43  838  112   50  670    2    9\n",
      "   35  480  284    5  150    4  172  112  167    2  336  385   39    4\n",
      "  172 4536 1111   17  546   38   13  447    4  192   50   16    6  147\n",
      " 2025   19   14   22    4 1920 4613  469    4   22   71   87   12   16\n",
      "   43  530   38   76   15   13 1247    4   22   17  515   17   12   16\n",
      "  626   18    2    5   62  386   12    8  316    8  106    5    4 2223\n",
      " 5244   16  480   66 3785   33    4  130   12   16   38  619    5   25\n",
      "  124   51   36  135   48   25 1415   33    6   22   12  215   28   77\n",
      "   52    5   14  407   16   82    2    8    4  107  117 5952   15  256\n",
      "    4    2    7 3766    5  723   36   71   43  530  476   26  400  317\n",
      "   46    7    4    2 1029   13  104   88    4  381   15  297   98   32\n",
      " 2071   56   26  141    6  194 7486   18    4  226   22   21  134  476\n",
      "   26  480    5  144   30 5535   18   51   36   28  224   92   25  104\n",
      "    4  226   65   16   38 1334   88   12   16  283    5   16 4472  113\n",
      "  103   32   15   16 5345   19  178   32    0    0    0    0    0    0\n",
      "    0    0    0    0    0    0    0    0    0    0    0    0    0    0\n",
      "    0    0    0    0    0    0    0    0    0    0    0    0    0    0\n",
      "    0    0    0    0]\n"
     ]
    }
   ],
   "source": [
    "print(train_data[0])"
   ]
  },
  {
   "cell_type": "code",
   "execution_count": 42,
   "metadata": {},
   "outputs": [
    {
     "name": "stdout",
     "output_type": "stream",
     "text": [
      "Model: \"sequential\"\n",
      "_________________________________________________________________\n",
      " Layer (type)                Output Shape              Param #   \n",
      "=================================================================\n",
      " embedding (Embedding)       (None, None, 16)          160000    \n",
      "                                                                 \n",
      " global_average_pooling1d (G  (None, 16)               0         \n",
      " lobalAveragePooling1D)                                          \n",
      "                                                                 \n",
      " dense (Dense)               (None, 16)                272       \n",
      "                                                                 \n",
      " dense_1 (Dense)             (None, 1)                 17        \n",
      "                                                                 \n",
      "=================================================================\n",
      "Total params: 160,289\n",
      "Trainable params: 160,289\n",
      "Non-trainable params: 0\n",
      "_________________________________________________________________\n"
     ]
    }
   ],
   "source": [
    "# Создание модели\n",
    "# Размер входных данных - количество слов, использованных в обзорах фильмов (10000 слов)\n",
    "vocab_size = 10000\n",
    "\n",
    "model = keras.Sequential()\n",
    "model.add(keras.layers.Embedding(vocab_size, 16, input_shape=(None,)))\n",
    "model.add(keras.layers.GlobalAveragePooling1D())\n",
    "model.add(keras.layers.Dense(16, activation=tf.nn.relu))\n",
    "model.add(keras.layers.Dense(1, activation=tf.nn.sigmoid))\n",
    "model.summary()"
   ]
  },
  {
   "cell_type": "code",
   "execution_count": 43,
   "metadata": {},
   "outputs": [],
   "source": [
    "# Определение функций потерь и оптимизатора\n",
    "model.compile(optimizer='adam',\n",
    "loss='binary_crossentropy',\n",
    "metrics=['accuracy'])\n"
   ]
  },
  {
   "cell_type": "code",
   "execution_count": 45,
   "metadata": {},
   "outputs": [],
   "source": [
    "# Создание проверочного набора данных\n",
    "x_val = train_data[:10000]\n",
    "partial_x_train = train_data[10000:]\n",
    "\n",
    "y_val = train_labels[:10000]\n",
    "partial_y_train = train_labels[10000:]"
   ]
  },
  {
   "cell_type": "code",
   "execution_count": 46,
   "metadata": {},
   "outputs": [
    {
     "name": "stderr",
     "output_type": "stream",
     "text": [
      "2023-05-31 01:04:07.211597: W tensorflow/tsl/framework/cpu_allocator_impl.cc:83] Allocation of 15360000 exceeds 10% of free system memory.\n"
     ]
    },
    {
     "name": "stdout",
     "output_type": "stream",
     "text": [
      "Epoch 1/40\n",
      "30/30 [==============================] - 4s 60ms/step - loss: 0.6919 - accuracy: 0.5522 - val_loss: 0.6899 - val_accuracy: 0.5525\n",
      "Epoch 2/40\n",
      "30/30 [==============================] - 2s 51ms/step - loss: 0.6851 - accuracy: 0.5981 - val_loss: 0.6803 - val_accuracy: 0.7197\n",
      "Epoch 3/40\n",
      "30/30 [==============================] - 1s 47ms/step - loss: 0.6713 - accuracy: 0.7393 - val_loss: 0.6641 - val_accuracy: 0.7341\n",
      "Epoch 4/40\n",
      "30/30 [==============================] - 1s 49ms/step - loss: 0.6491 - accuracy: 0.7579 - val_loss: 0.6395 - val_accuracy: 0.7628\n",
      "Epoch 5/40\n",
      "30/30 [==============================] - 1s 45ms/step - loss: 0.6178 - accuracy: 0.7831 - val_loss: 0.6076 - val_accuracy: 0.7790\n",
      "Epoch 6/40\n",
      "30/30 [==============================] - 1s 46ms/step - loss: 0.5786 - accuracy: 0.8114 - val_loss: 0.5695 - val_accuracy: 0.8015\n",
      "Epoch 7/40\n",
      "30/30 [==============================] - 1s 43ms/step - loss: 0.5358 - accuracy: 0.8321 - val_loss: 0.5291 - val_accuracy: 0.8220\n",
      "Epoch 8/40\n",
      "30/30 [==============================] - 2s 51ms/step - loss: 0.4918 - accuracy: 0.8463 - val_loss: 0.4909 - val_accuracy: 0.8356\n",
      "Epoch 9/40\n",
      "30/30 [==============================] - 1s 49ms/step - loss: 0.4509 - accuracy: 0.8624 - val_loss: 0.4560 - val_accuracy: 0.8409\n",
      "Epoch 10/40\n",
      "30/30 [==============================] - 1s 48ms/step - loss: 0.4134 - accuracy: 0.8713 - val_loss: 0.4256 - val_accuracy: 0.8487\n",
      "Epoch 11/40\n",
      "30/30 [==============================] - 1s 46ms/step - loss: 0.3808 - accuracy: 0.8811 - val_loss: 0.3998 - val_accuracy: 0.8560\n",
      "Epoch 12/40\n",
      "30/30 [==============================] - 1s 41ms/step - loss: 0.3524 - accuracy: 0.8882 - val_loss: 0.3788 - val_accuracy: 0.8623\n",
      "Epoch 13/40\n",
      "30/30 [==============================] - 1s 43ms/step - loss: 0.3284 - accuracy: 0.8949 - val_loss: 0.3616 - val_accuracy: 0.8674\n",
      "Epoch 14/40\n",
      "30/30 [==============================] - 1s 41ms/step - loss: 0.3077 - accuracy: 0.8996 - val_loss: 0.3473 - val_accuracy: 0.8708\n",
      "Epoch 15/40\n",
      "30/30 [==============================] - 1s 41ms/step - loss: 0.2894 - accuracy: 0.9045 - val_loss: 0.3356 - val_accuracy: 0.8735\n",
      "Epoch 16/40\n",
      "30/30 [==============================] - 1s 44ms/step - loss: 0.2737 - accuracy: 0.9088 - val_loss: 0.3260 - val_accuracy: 0.8764\n",
      "Epoch 17/40\n",
      "30/30 [==============================] - 1s 44ms/step - loss: 0.2592 - accuracy: 0.9143 - val_loss: 0.3180 - val_accuracy: 0.8783\n",
      "Epoch 18/40\n",
      "30/30 [==============================] - 2s 51ms/step - loss: 0.2465 - accuracy: 0.9164 - val_loss: 0.3117 - val_accuracy: 0.8773\n",
      "Epoch 19/40\n",
      "30/30 [==============================] - 1s 47ms/step - loss: 0.2349 - accuracy: 0.9213 - val_loss: 0.3057 - val_accuracy: 0.8805\n",
      "Epoch 20/40\n",
      "30/30 [==============================] - 1s 45ms/step - loss: 0.2238 - accuracy: 0.9255 - val_loss: 0.3021 - val_accuracy: 0.8799\n",
      "Epoch 21/40\n",
      "30/30 [==============================] - 1s 45ms/step - loss: 0.2138 - accuracy: 0.9284 - val_loss: 0.2973 - val_accuracy: 0.8818\n",
      "Epoch 22/40\n",
      "30/30 [==============================] - 1s 41ms/step - loss: 0.2045 - accuracy: 0.9316 - val_loss: 0.2942 - val_accuracy: 0.8822\n",
      "Epoch 23/40\n",
      "30/30 [==============================] - 1s 42ms/step - loss: 0.1958 - accuracy: 0.9351 - val_loss: 0.2915 - val_accuracy: 0.8838\n",
      "Epoch 24/40\n",
      "30/30 [==============================] - 1s 42ms/step - loss: 0.1876 - accuracy: 0.9394 - val_loss: 0.2904 - val_accuracy: 0.8837\n",
      "Epoch 25/40\n",
      "30/30 [==============================] - 1s 41ms/step - loss: 0.1800 - accuracy: 0.9431 - val_loss: 0.2888 - val_accuracy: 0.8846\n",
      "Epoch 26/40\n",
      "30/30 [==============================] - 1s 40ms/step - loss: 0.1727 - accuracy: 0.9463 - val_loss: 0.2873 - val_accuracy: 0.8846\n",
      "Epoch 27/40\n",
      "30/30 [==============================] - 1s 40ms/step - loss: 0.1661 - accuracy: 0.9482 - val_loss: 0.2865 - val_accuracy: 0.8843\n",
      "Epoch 28/40\n",
      "30/30 [==============================] - 1s 46ms/step - loss: 0.1604 - accuracy: 0.9494 - val_loss: 0.2870 - val_accuracy: 0.8860\n",
      "Epoch 29/40\n",
      "30/30 [==============================] - 1s 42ms/step - loss: 0.1552 - accuracy: 0.9530 - val_loss: 0.2899 - val_accuracy: 0.8815\n",
      "Epoch 30/40\n",
      "30/30 [==============================] - 1s 41ms/step - loss: 0.1489 - accuracy: 0.9543 - val_loss: 0.2890 - val_accuracy: 0.8846\n",
      "Epoch 31/40\n",
      "30/30 [==============================] - 1s 43ms/step - loss: 0.1431 - accuracy: 0.9571 - val_loss: 0.2869 - val_accuracy: 0.8866\n",
      "Epoch 32/40\n",
      "30/30 [==============================] - 1s 41ms/step - loss: 0.1373 - accuracy: 0.9595 - val_loss: 0.2880 - val_accuracy: 0.8857\n",
      "Epoch 33/40\n",
      "30/30 [==============================] - 1s 42ms/step - loss: 0.1323 - accuracy: 0.9623 - val_loss: 0.2893 - val_accuracy: 0.8856\n",
      "Epoch 34/40\n",
      "30/30 [==============================] - 1s 44ms/step - loss: 0.1274 - accuracy: 0.9643 - val_loss: 0.2899 - val_accuracy: 0.8862\n",
      "Epoch 35/40\n",
      "30/30 [==============================] - 1s 41ms/step - loss: 0.1231 - accuracy: 0.9660 - val_loss: 0.2915 - val_accuracy: 0.8856\n",
      "Epoch 36/40\n",
      "30/30 [==============================] - 1s 44ms/step - loss: 0.1183 - accuracy: 0.9680 - val_loss: 0.2938 - val_accuracy: 0.8855\n",
      "Epoch 37/40\n",
      "30/30 [==============================] - 1s 51ms/step - loss: 0.1141 - accuracy: 0.9691 - val_loss: 0.2954 - val_accuracy: 0.8853\n",
      "Epoch 38/40\n",
      "30/30 [==============================] - 1s 43ms/step - loss: 0.1101 - accuracy: 0.9705 - val_loss: 0.2974 - val_accuracy: 0.8844\n",
      "Epoch 39/40\n",
      "30/30 [==============================] - 1s 42ms/step - loss: 0.1061 - accuracy: 0.9715 - val_loss: 0.3003 - val_accuracy: 0.8845\n",
      "Epoch 40/40\n",
      "30/30 [==============================] - 1s 42ms/step - loss: 0.1022 - accuracy: 0.9730 - val_loss: 0.3024 - val_accuracy: 0.8849\n"
     ]
    }
   ],
   "source": [
    "# Обучение модели\n",
    "history = model.fit(partial_x_train,\n",
    "partial_y_train,\n",
    "epochs=40,\n",
    "batch_size=512,\n",
    "validation_data=(x_val, y_val),\n",
    "verbose=1)"
   ]
  },
  {
   "cell_type": "code",
   "execution_count": 47,
   "metadata": {},
   "outputs": [
    {
     "data": {
      "text/plain": [
       "dict_keys(['loss', 'accuracy', 'val_loss', 'val_accuracy'])"
      ]
     },
     "execution_count": 47,
     "metadata": {},
     "output_type": "execute_result"
    }
   ],
   "source": [
    "history_dict = history.history\n",
    "history_dict.keys()"
   ]
  },
  {
   "cell_type": "code",
   "execution_count": 48,
   "metadata": {},
   "outputs": [
    {
     "data": {
      "image/png": "[encoded data removed]",
      "text/plain": [
       "<Figure size 640x480 with 1 Axes>"
      ]
     },
     "metadata": {},
     "output_type": "display_data"
    }
   ],
   "source": [
    "import matplotlib.pyplot as plt\n",
    "\n",
    "acc = history.history['accuracy']\n",
    "val_acc = history.history['val_accuracy']\n",
    "loss = history.history['loss']\n",
    "val_loss = history.history['val_loss']\n",
    "\n",
    "epochs = range(1, len(acc) + 1)\n",
    "\n",
    "# \"bo\" означает \"blue dot\", синяя точка\n",
    "plt.plot(epochs, loss, 'bo', label='Потери обучения')\n",
    "# \"b\" означает \"solid blue line\", непрерывная синяя линия\n",
    "plt.plot(epochs, val_loss, 'b', label='Потери проверки')\n",
    "plt.title('Потери во время обучения и проверки')\n",
    "plt.xlabel('Эпохи')\n",
    "plt.ylabel('Потери')\n",
    "plt.legend()\n",
    "\n",
    "plt.show()"
   ]
  },
  {
   "cell_type": "code",
   "execution_count": 49,
   "metadata": {},
   "outputs": [
    {
     "data": {
      "text/plain": [
       "<matplotlib.legend.Legend at 0x7fa098ab5ea0>"
      ]
     },
     "execution_count": 49,
     "metadata": {},
     "output_type": "execute_result"
    },
    {
     "data": {
      "image/png": "[encoded data removed]",
      "text/plain": [
       "<Figure size 640x480 with 1 Axes>"
      ]
     },
     "metadata": {},
     "output_type": "display_data"
    }
   ],
   "source": [
    "plt.clf() \n",
    "# Очистим график\n",
    "\n",
    "plt.plot(epochs, acc, 'bo', label='Точность обучения')\n",
    "plt.plot(epochs, val_acc, 'b', label='Точность проверки')\n",
    "plt.title('Точность во время обучения и проверки')\n",
    "plt.xlabel('Эпохи')\n",
    "plt.ylabel('Точность')\n",
    "plt.legend()"
   ]
  },
  {
   "cell_type": "code",
   "execution_count": 50,
   "metadata": {},
   "outputs": [
    {
     "name": "stdout",
     "output_type": "stream",
     "text": [
      "782/782 [==============================] - 6s 7ms/step - loss: 0.3206 - accuracy: 0.8727\n",
      "[0.3206412196159363, 0.8727200031280518]\n"
     ]
    }
   ],
   "source": [
    "# Оценка точности модели\n",
    "results = model.evaluate(test_data, test_labels)\n",
    "print(results)"
   ]
  },
  {
   "cell_type": "code",
   "execution_count": 54,
   "metadata": {},
   "outputs": [
    {
     "name": "stdout",
     "output_type": "stream",
     "text": [
      "782/782 [==============================] - 5s 6ms/step - loss: 0.3206 - accuracy: 0.8727\n",
      "Восстановленная модель, точность: 87.27%\n"
     ]
    }
   ],
   "source": [
    "# Сохранение модели\n",
    "model.save('model_one_class.h5')\n",
    "# Создание модели из сохраненного файла\n",
    "new_model = keras.models.load_model('model_one_class.h5')\n",
    "# Проверим заданную модель из файла\n",
    "loss, acc = new_model.evaluate(test_data, test_labels)\n",
    "print(\"Восстановленная модель, точность: {:5.2f}%\".format(100*acc))"
   ]
  },
  {
   "cell_type": "code",
   "execution_count": 58,
   "metadata": {},
   "outputs": [
    {
     "name": "stdout",
     "output_type": "stream",
     "text": [
      "782/782 [==============================] - 5s 6ms/step - loss: 0.3206 - accuracy: 0.8727\n",
      "Изначальная модель, точность: 87.27%\n"
     ]
    }
   ],
   "source": [
    "# Сравним более наглядно точность старой модели относительно новой\n",
    "loss , acc = model.evaluate(test_data, test_labels)\n",
    "print(\"Изначальная модель, точность: {:5.2f}%\".format(100*acc))"
   ]
  },
  {
   "cell_type": "code",
   "execution_count": null,
   "metadata": {},
   "outputs": [],
   "source": []
  }
 ],
 "metadata": {
  "kernelspec": {
   "display_name": "Python 3",
   "language": "python",
   "name": "python3"
  },
  "language_info": {
   "codemirror_mode": {
    "name": "ipython",
    "version": 3
   },
   "file_extension": ".py",
   "mimetype": "text/x-python",
   "name": "python",
   "nbconvert_exporter": "python",
   "pygments_lexer": "ipython3",
   "version": "3.10.6"
  },
  "orig_nbformat": 4
 },
 "nbformat": 4,
 "nbformat_minor": 2
}
