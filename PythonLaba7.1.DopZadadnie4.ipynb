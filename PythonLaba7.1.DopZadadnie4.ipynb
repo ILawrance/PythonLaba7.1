{
 "cells": [
  {
   "cell_type": "code",
   "execution_count": 2,
   "metadata": {},
   "outputs": [
    {
     "name": "stderr",
     "output_type": "stream",
     "text": [
      "2023-06-12 21:40:59.826657: I tensorflow/tsl/cuda/cudart_stub.cc:28] Could not find cuda drivers on your machine, GPU will not be used.\n",
      "2023-06-12 21:41:01.554590: I tensorflow/tsl/cuda/cudart_stub.cc:28] Could not find cuda drivers on your machine, GPU will not be used.\n",
      "2023-06-12 21:41:01.557132: I tensorflow/core/platform/cpu_feature_guard.cc:182] This TensorFlow binary is optimized to use available CPU instructions in performance-critical operations.\n",
      "To enable the following instructions: AVX2, in other operations, rebuild TensorFlow with the appropriate compiler flags.\n",
      "2023-06-12 21:41:08.081503: W tensorflow/compiler/tf2tensorrt/utils/py_utils.cc:38] TF-TRT Warning: Could not find TensorRT\n"
     ]
    },
    {
     "name": "stdout",
     "output_type": "stream",
     "text": [
      "2.12.0\n"
     ]
    }
   ],
   "source": [
    "# доп. задание: вместо relu в промежуточном слое использовать функцию активации tanh \n",
    "import tensorflow as tf\n",
    "from tensorflow import keras\n",
    "import numpy as np\n",
    "print(tf.__version__)"
   ]
  },
  {
   "cell_type": "code",
   "execution_count": 3,
   "metadata": {},
   "outputs": [],
   "source": [
    "imdb = keras.datasets.imdb\n",
    "(train_data, train_labels), (test_data, test_labels) = imdb.load_data(num_words=10000)"
   ]
  },
  {
   "cell_type": "code",
   "execution_count": 4,
   "metadata": {},
   "outputs": [],
   "source": [
    "# Назначим словарь, который будет отображать слова из массива данных\n",
    "word_index = imdb.get_word_index()\n",
    "\n",
    "# Зарезервируем первые несколько значений\n",
    "word_index = {k:(v+3) for k,v in word_index.items()}\n",
    "word_index[\"<PAD>\"] = 0\n",
    "word_index[\"<START>\"] = 1\n",
    "word_index[\"<UNK>\"] = 2\n",
    "# Вместо редких слов, не вошедших в набор из 10000, будет указано UNK\n",
    "word_index[\"<UNUSED>\"] = 3\n",
    "\n",
    "reverse_word_index = dict([(value, key) for (key, value) in word_index.items()])\n",
    "\n",
    "def decode_review(text):\n",
    "    return ' '.join([reverse_word_index.get(i, '?') for i in text])"
   ]
  },
  {
   "cell_type": "code",
   "execution_count": 5,
   "metadata": {},
   "outputs": [],
   "source": [
    "# Подготовка данных\n",
    "train_data = keras.preprocessing.sequence.pad_sequences(train_data,\n",
    "value=word_index[\"<PAD>\"],\n",
    "padding='post',\n",
    "maxlen=256)\n",
    "\n",
    "test_data = keras.preprocessing.sequence.pad_sequences(test_data, value=word_index[\"<PAD>\"],\n",
    "padding='post',\n",
    "maxlen=256)"
   ]
  },
  {
   "cell_type": "code",
   "execution_count": 6,
   "metadata": {},
   "outputs": [
    {
     "name": "stdout",
     "output_type": "stream",
     "text": [
      "Model: \"sequential\"\n",
      "_________________________________________________________________\n",
      " Layer (type)                Output Shape              Param #   \n",
      "=================================================================\n",
      " embedding (Embedding)       (None, None, 16)          160000    \n",
      "                                                                 \n",
      " global_average_pooling1d (G  (None, 16)               0         \n",
      " lobalAveragePooling1D)                                          \n",
      "                                                                 \n",
      " dense (Dense)               (None, 16)                272       \n",
      "                                                                 \n",
      " dense_1 (Dense)             (None, 1)                 17        \n",
      "                                                                 \n",
      "=================================================================\n",
      "Total params: 160,289\n",
      "Trainable params: 160,289\n",
      "Non-trainable params: 0\n",
      "_________________________________________________________________\n"
     ]
    }
   ],
   "source": [
    "# Создание модели\n",
    "# Размер входных данных - количество слов, использованных в обзорах фильмов (10000 слов)\n",
    "vocab_size = 10000\n",
    "\n",
    "model = keras.Sequential()\n",
    "model.add(keras.layers.Embedding(vocab_size, 16, input_shape=(None,)))\n",
    "model.add(keras.layers.GlobalAveragePooling1D())\n",
    "model.add(keras.layers.Dense(16, activation=tf.nn.tanh))\n",
    "model.add(keras.layers.Dense(1, activation=tf.nn.sigmoid))\n",
    "model.summary()"
   ]
  },
  {
   "cell_type": "code",
   "execution_count": 7,
   "metadata": {},
   "outputs": [],
   "source": [
    "# Определение функций потерь и оптимизатора\n",
    "model.compile(optimizer='adam',\n",
    "loss='binary_crossentropy',\n",
    "metrics=['accuracy'])\n"
   ]
  },
  {
   "cell_type": "code",
   "execution_count": 8,
   "metadata": {},
   "outputs": [],
   "source": [
    "# Создание проверочного набора данных\n",
    "x_val = train_data[:10000]\n",
    "partial_x_train = train_data[10000:]\n",
    "\n",
    "y_val = train_labels[:10000]\n",
    "partial_y_train = train_labels[10000:]"
   ]
  },
  {
   "cell_type": "code",
   "execution_count": 9,
   "metadata": {},
   "outputs": [
    {
     "name": "stderr",
     "output_type": "stream",
     "text": [
      "2023-06-12 21:41:23.379289: W tensorflow/tsl/framework/cpu_allocator_impl.cc:83] Allocation of 15360000 exceeds 10% of free system memory.\n"
     ]
    },
    {
     "name": "stdout",
     "output_type": "stream",
     "text": [
      "Epoch 1/40\n",
      "30/30 [==============================] - 4s 54ms/step - loss: 0.6910 - accuracy: 0.5499 - val_loss: 0.6881 - val_accuracy: 0.6168\n",
      "Epoch 2/40\n",
      "30/30 [==============================] - 1s 39ms/step - loss: 0.6819 - accuracy: 0.6876 - val_loss: 0.6754 - val_accuracy: 0.7225\n",
      "Epoch 3/40\n",
      "30/30 [==============================] - 1s 37ms/step - loss: 0.6624 - accuracy: 0.7398 - val_loss: 0.6517 - val_accuracy: 0.7337\n",
      "Epoch 4/40\n",
      "30/30 [==============================] - 1s 36ms/step - loss: 0.6292 - accuracy: 0.7649 - val_loss: 0.6147 - val_accuracy: 0.7612\n",
      "Epoch 5/40\n",
      "30/30 [==============================] - 1s 39ms/step - loss: 0.5843 - accuracy: 0.7855 - val_loss: 0.5708 - val_accuracy: 0.7806\n",
      "Epoch 6/40\n",
      "30/30 [==============================] - 1s 33ms/step - loss: 0.5337 - accuracy: 0.8073 - val_loss: 0.5245 - val_accuracy: 0.8006\n",
      "Epoch 7/40\n",
      "30/30 [==============================] - 1s 38ms/step - loss: 0.4828 - accuracy: 0.8301 - val_loss: 0.4799 - val_accuracy: 0.8221\n",
      "Epoch 8/40\n",
      "30/30 [==============================] - 1s 34ms/step - loss: 0.4353 - accuracy: 0.8507 - val_loss: 0.4402 - val_accuracy: 0.8384\n",
      "Epoch 9/40\n",
      "30/30 [==============================] - 1s 33ms/step - loss: 0.3941 - accuracy: 0.8655 - val_loss: 0.4075 - val_accuracy: 0.8483\n",
      "Epoch 10/40\n",
      "30/30 [==============================] - 1s 37ms/step - loss: 0.3595 - accuracy: 0.8772 - val_loss: 0.3818 - val_accuracy: 0.8557\n",
      "Epoch 11/40\n",
      "30/30 [==============================] - 1s 40ms/step - loss: 0.3314 - accuracy: 0.8852 - val_loss: 0.3611 - val_accuracy: 0.8618\n",
      "Epoch 12/40\n",
      "30/30 [==============================] - 1s 36ms/step - loss: 0.3076 - accuracy: 0.8943 - val_loss: 0.3453 - val_accuracy: 0.8653\n",
      "Epoch 13/40\n",
      "30/30 [==============================] - 1s 39ms/step - loss: 0.2874 - accuracy: 0.9008 - val_loss: 0.3331 - val_accuracy: 0.8694\n",
      "Epoch 14/40\n",
      "30/30 [==============================] - 1s 41ms/step - loss: 0.2696 - accuracy: 0.9050 - val_loss: 0.3225 - val_accuracy: 0.8756\n",
      "Epoch 15/40\n",
      "30/30 [==============================] - 1s 34ms/step - loss: 0.2540 - accuracy: 0.9125 - val_loss: 0.3141 - val_accuracy: 0.8786\n",
      "Epoch 16/40\n",
      "30/30 [==============================] - 1s 31ms/step - loss: 0.2396 - accuracy: 0.9171 - val_loss: 0.3072 - val_accuracy: 0.8782\n",
      "Epoch 17/40\n",
      "30/30 [==============================] - 1s 31ms/step - loss: 0.2270 - accuracy: 0.9212 - val_loss: 0.3016 - val_accuracy: 0.8808\n",
      "Epoch 18/40\n",
      "30/30 [==============================] - 1s 32ms/step - loss: 0.2155 - accuracy: 0.9257 - val_loss: 0.2974 - val_accuracy: 0.8814\n",
      "Epoch 19/40\n",
      "30/30 [==============================] - 1s 36ms/step - loss: 0.2044 - accuracy: 0.9293 - val_loss: 0.2956 - val_accuracy: 0.8807\n",
      "Epoch 20/40\n",
      "30/30 [==============================] - 1s 48ms/step - loss: 0.1944 - accuracy: 0.9341 - val_loss: 0.2915 - val_accuracy: 0.8828\n",
      "Epoch 21/40\n",
      "30/30 [==============================] - 1s 34ms/step - loss: 0.1850 - accuracy: 0.9379 - val_loss: 0.2891 - val_accuracy: 0.8837\n",
      "Epoch 22/40\n",
      "30/30 [==============================] - 1s 31ms/step - loss: 0.1764 - accuracy: 0.9418 - val_loss: 0.2875 - val_accuracy: 0.8848\n",
      "Epoch 23/40\n",
      "30/30 [==============================] - 1s 33ms/step - loss: 0.1685 - accuracy: 0.9455 - val_loss: 0.2874 - val_accuracy: 0.8846\n",
      "Epoch 24/40\n",
      "30/30 [==============================] - 1s 37ms/step - loss: 0.1605 - accuracy: 0.9496 - val_loss: 0.2872 - val_accuracy: 0.8850\n",
      "Epoch 25/40\n",
      "30/30 [==============================] - 1s 32ms/step - loss: 0.1539 - accuracy: 0.9513 - val_loss: 0.2875 - val_accuracy: 0.8858\n",
      "Epoch 26/40\n",
      "30/30 [==============================] - 1s 33ms/step - loss: 0.1467 - accuracy: 0.9549 - val_loss: 0.2897 - val_accuracy: 0.8828\n",
      "Epoch 27/40\n",
      "30/30 [==============================] - 1s 31ms/step - loss: 0.1402 - accuracy: 0.9572 - val_loss: 0.2893 - val_accuracy: 0.8861\n",
      "Epoch 28/40\n",
      "30/30 [==============================] - 1s 36ms/step - loss: 0.1339 - accuracy: 0.9601 - val_loss: 0.2909 - val_accuracy: 0.8847\n",
      "Epoch 29/40\n",
      "30/30 [==============================] - 1s 36ms/step - loss: 0.1279 - accuracy: 0.9627 - val_loss: 0.2926 - val_accuracy: 0.8860\n",
      "Epoch 30/40\n",
      "30/30 [==============================] - 1s 36ms/step - loss: 0.1223 - accuracy: 0.9643 - val_loss: 0.2947 - val_accuracy: 0.8861\n",
      "Epoch 31/40\n",
      "30/30 [==============================] - 1s 33ms/step - loss: 0.1170 - accuracy: 0.9665 - val_loss: 0.2972 - val_accuracy: 0.8858\n",
      "Epoch 32/40\n",
      "30/30 [==============================] - 1s 34ms/step - loss: 0.1123 - accuracy: 0.9675 - val_loss: 0.3007 - val_accuracy: 0.8840\n",
      "Epoch 33/40\n",
      "30/30 [==============================] - 1s 30ms/step - loss: 0.1073 - accuracy: 0.9704 - val_loss: 0.3035 - val_accuracy: 0.8844\n",
      "Epoch 34/40\n",
      "30/30 [==============================] - 1s 31ms/step - loss: 0.1022 - accuracy: 0.9724 - val_loss: 0.3062 - val_accuracy: 0.8840\n",
      "Epoch 35/40\n",
      "30/30 [==============================] - 1s 32ms/step - loss: 0.0980 - accuracy: 0.9739 - val_loss: 0.3127 - val_accuracy: 0.8813\n",
      "Epoch 36/40\n",
      "30/30 [==============================] - 1s 31ms/step - loss: 0.0937 - accuracy: 0.9755 - val_loss: 0.3136 - val_accuracy: 0.8829\n",
      "Epoch 37/40\n",
      "30/30 [==============================] - 1s 38ms/step - loss: 0.0898 - accuracy: 0.9767 - val_loss: 0.3173 - val_accuracy: 0.8832\n",
      "Epoch 38/40\n",
      "30/30 [==============================] - 1s 35ms/step - loss: 0.0859 - accuracy: 0.9780 - val_loss: 0.3223 - val_accuracy: 0.8815\n",
      "Epoch 39/40\n",
      "30/30 [==============================] - 1s 41ms/step - loss: 0.0820 - accuracy: 0.9789 - val_loss: 0.3262 - val_accuracy: 0.8816\n",
      "Epoch 40/40\n",
      "30/30 [==============================] - 1s 38ms/step - loss: 0.0782 - accuracy: 0.9809 - val_loss: 0.3311 - val_accuracy: 0.8810\n"
     ]
    }
   ],
   "source": [
    "# Обучение модели\n",
    "history = model.fit(partial_x_train,\n",
    "partial_y_train,\n",
    "epochs=40,\n",
    "batch_size=512,\n",
    "validation_data=(x_val, y_val),\n",
    "verbose=1)"
   ]
  },
  {
   "cell_type": "code",
   "execution_count": 10,
   "metadata": {},
   "outputs": [
    {
     "data": {
      "text/plain": [
       "dict_keys(['loss', 'accuracy', 'val_loss', 'val_accuracy'])"
      ]
     },
     "execution_count": 10,
     "metadata": {},
     "output_type": "execute_result"
    }
   ],
   "source": [
    "history_dict = history.history\n",
    "history_dict.keys()"
   ]
  },
  {
   "cell_type": "code",
   "execution_count": 11,
   "metadata": {},
   "outputs": [
    {
     "data": {
      "image/png": "[encoded data removed]",
      "text/plain": [
       "<Figure size 640x480 with 1 Axes>"
      ]
     },
     "metadata": {},
     "output_type": "display_data"
    }
   ],
   "source": [
    "import matplotlib.pyplot as plt\n",
    "\n",
    "acc = history.history['accuracy']\n",
    "val_acc = history.history['val_accuracy']\n",
    "loss = history.history['loss']\n",
    "val_loss = history.history['val_loss']\n",
    "\n",
    "epochs = range(1, len(acc) + 1)\n",
    "\n",
    "# \"bo\" означает \"blue dot\", синяя точка\n",
    "plt.plot(epochs, loss, 'bo', label='Потери обучения')\n",
    "# \"b\" означает \"solid blue line\", непрерывная синяя линия\n",
    "plt.plot(epochs, val_loss, 'b', label='Потери проверки')\n",
    "plt.title('Потери во время обучения и проверки')\n",
    "plt.xlabel('Эпохи')\n",
    "plt.ylabel('Потери')\n",
    "plt.legend()\n",
    "\n",
    "plt.show()"
   ]
  },
  {
   "cell_type": "code",
   "execution_count": 12,
   "metadata": {},
   "outputs": [
    {
     "data": {
      "text/plain": [
       "<matplotlib.legend.Legend at 0x7faa008efac0>"
      ]
     },
     "execution_count": 12,
     "metadata": {},
     "output_type": "execute_result"
    },
    {
     "data": {
      "image/png": "[encoded data removed]",
      "text/plain": [
       "<Figure size 640x480 with 1 Axes>"
      ]
     },
     "metadata": {},
     "output_type": "display_data"
    }
   ],
   "source": [
    "plt.clf() \n",
    "# Очистим график\n",
    "\n",
    "plt.plot(epochs, acc, 'bo', label='Точность обучения')\n",
    "plt.plot(epochs, val_acc, 'b', label='Точность проверки')\n",
    "plt.title('Точность во время обучения и проверки')\n",
    "plt.xlabel('Эпохи')\n",
    "plt.ylabel('Точность')\n",
    "plt.legend()"
   ]
  },
  {
   "cell_type": "code",
   "execution_count": 13,
   "metadata": {},
   "outputs": [
    {
     "name": "stderr",
     "output_type": "stream",
     "text": [
      "2023-06-12 21:42:51.130512: W tensorflow/tsl/framework/cpu_allocator_impl.cc:83] Allocation of 25600000 exceeds 10% of free system memory.\n"
     ]
    },
    {
     "name": "stdout",
     "output_type": "stream",
     "text": [
      "782/782 [==============================] - 3s 3ms/step - loss: 0.3539 - accuracy: 0.8688\n",
      "[0.3539043068885803, 0.8688399791717529]\n"
     ]
    }
   ],
   "source": [
    "# Оценка точности модели\n",
    "results = model.evaluate(test_data, test_labels)\n",
    "print(results)"
   ]
  },
  {
   "cell_type": "code",
   "execution_count": 14,
   "metadata": {},
   "outputs": [
    {
     "name": "stderr",
     "output_type": "stream",
     "text": [
      "2023-06-12 21:42:54.498246: W tensorflow/tsl/framework/cpu_allocator_impl.cc:83] Allocation of 25600000 exceeds 10% of free system memory.\n"
     ]
    },
    {
     "name": "stdout",
     "output_type": "stream",
     "text": [
      "782/782 [==============================] - 3s 4ms/step - loss: 0.3539 - accuracy: 0.8688\n",
      "Восстановленная модель, точность: 86.88%\n"
     ]
    }
   ],
   "source": [
    "# Сохранение модели\n",
    "model.save('model_Dop4_class.h5')\n",
    "# Создание модели из сохраненного файла\n",
    "new_model = keras.models.load_model('model_Dop4_class.h5')\n",
    "# Проверим заданную модель из файла\n",
    "loss, acc = new_model.evaluate(test_data, test_labels)\n",
    "print(\"Восстановленная модель, точность: {:5.2f}%\".format(100*acc))"
   ]
  },
  {
   "cell_type": "code",
   "execution_count": 15,
   "metadata": {},
   "outputs": [
    {
     "name": "stdout",
     "output_type": "stream",
     "text": [
      "  1/782 [..............................] - ETA: 46s - loss: 0.3024 - accuracy: 0.8750"
     ]
    },
    {
     "name": "stderr",
     "output_type": "stream",
     "text": [
      "2023-06-12 21:42:57.796953: W tensorflow/tsl/framework/cpu_allocator_impl.cc:83] Allocation of 25600000 exceeds 10% of free system memory.\n"
     ]
    },
    {
     "name": "stdout",
     "output_type": "stream",
     "text": [
      "782/782 [==============================] - 3s 4ms/step - loss: 0.3539 - accuracy: 0.8688\n",
      "Изначальная модель, точность: 86.88%\n"
     ]
    }
   ],
   "source": [
    "# Сравним более наглядно точность старой модели относительно новой\n",
    "loss , acc = model.evaluate(test_data, test_labels)\n",
    "print(\"Изначальная модель, точность: {:5.2f}%\".format(100*acc))"
   ]
  },
  {
   "cell_type": "code",
   "execution_count": 19,
   "metadata": {},
   "outputs": [
    {
     "name": "stdout",
     "output_type": "stream",
     "text": [
      "782/782 [==============================] - 6s 7ms/step - loss: 0.3206 - accuracy: 0.8727\n",
      "Базовая модель, точность: 87.27%\n",
      "Базовая модель, потери: 32.06%\n",
      "782/782 [==============================] - 7s 9ms/step - loss: 0.7764 - accuracy: 0.8500\n",
      "Модель с 3 скрытыми слоями, точность: 85.00%\n",
      "Модель с 3 скрытыми слоями, потери: 77.64%\n",
      "782/782 [==============================] - 6s 7ms/step - loss: 0.4244 - accuracy: 0.8627\n",
      "Модель с 64 нейронами, точность: 86.27%\n",
      "Модель с 64 нейронами, потери: 42.44%\n",
      "782/782 [==============================] - 6s 8ms/step - loss: 0.0931 - accuracy: 0.8744\n",
      "Модель с функцией потерь mean_squared_error, точность: 87.44%\n",
      "Модель с функцией потерь mean_squared_error, потери:  9.31%\n",
      "782/782 [==============================] - 5s 6ms/step - loss: 0.3539 - accuracy: 0.8688\n",
      "Модель с функцией активации tanh, точность: 86.88%\n",
      "Модель с функцией активации tanh, потери: 35.39%\n",
      "782/782 [==============================] - 5s 6ms/step - loss: 0.1805 - accuracy: 0.9388\n",
      "782/782 [==============================] - 6s 7ms/step - loss: 0.2912 - accuracy: 0.9450\n",
      "782/782 [==============================] - 6s 7ms/step - loss: 0.1845 - accuracy: 0.9466\n",
      "782/782 [==============================] - 5s 6ms/step - loss: 0.0507 - accuracy: 0.9400\n",
      "782/782 [==============================] - 5s 7ms/step - loss: 0.1775 - accuracy: 0.9413\n"
     ]
    }
   ],
   "source": [
    "baza_model = keras.models.load_model('model_one_class.h5')\n",
    "loss, acc = baza_model.evaluate(test_data, test_labels)\n",
    "print(\"Базовая модель, точность: {:5.2f}%\".format(100*acc))\n",
    "print(\"Базовая модель, потери: {:5.2f}%\".format(100*loss))\n",
    "\n",
    "Dense3_model =  keras.models.load_model('model_Dop1_class.h5')\n",
    "test_loss1, test_acc1 = Dense3_model.evaluate(test_data, test_labels)\n",
    "print(\"Модель с 3 скрытыми слоями, точность: {:5.2f}%\".format(100*test_acc1))\n",
    "print(\"Модель с 3 скрытыми слоями, потери: {:5.2f}%\".format(100*test_loss1))\n",
    "\n",
    "Neyron64_model =  keras.models.load_model('model_Dop2_class.h5')\n",
    "test_loss2, test_acc2 = Neyron64_model.evaluate(test_data, test_labels)\n",
    "print(\"Модель с 64 нейронами, точность: {:5.2f}%\".format(100*test_acc2))\n",
    "print(\"Модель с 64 нейронами, потери: {:5.2f}%\".format(100*test_loss2))\n",
    "\n",
    "Mean_squared_error_model =  keras.models.load_model('model_Dop3_class.h5')\n",
    "test_loss3, test_acc3 = Mean_squared_error_model.evaluate(test_data, test_labels)\n",
    "print(\"Модель с функцией потерь mean_squared_error, точность: {:5.2f}%\".format(100*test_acc3))\n",
    "print(\"Модель с функцией потерь mean_squared_error, потери: {:5.2f}%\".format(100*test_loss3))\n",
    "\n",
    "Tanh_model =  keras.models.load_model('model_Dop4_class.h5')\n",
    "test_loss4, test_acc4 = Tanh_model.evaluate(test_data, test_labels)\n",
    "print(\"Модель с функцией активации tanh, точность: {:5.2f}%\".format(100*test_acc4))\n",
    "print(\"Модель с функцией активации tanh, потери: {:5.2f}%\".format(100*test_loss4))\n",
    "\n",
    "train_loss, train_acc = baza_model.evaluate(train_data, train_labels)\n",
    "train_loss1, train_acc1 = Dense3_model.evaluate(train_data, train_labels)\n",
    "train_loss2, train_acc2 = Neyron64_model.evaluate(train_data, train_labels)\n",
    "train_loss3, train_acc3 = Mean_squared_error_model.evaluate(train_data, train_labels)\n",
    "train_loss4, train_acc4 = Tanh_model.evaluate(train_data, train_labels)"
   ]
  },
  {
   "cell_type": "code",
   "execution_count": 20,
   "metadata": {},
   "outputs": [
    {
     "data": {
      "text/html": [
       "<div>\n",
       "<style scoped>\n",
       "    .dataframe tbody tr th:only-of-type {\n",
       "        vertical-align: middle;\n",
       "    }\n",
       "\n",
       "    .dataframe tbody tr th {\n",
       "        vertical-align: top;\n",
       "    }\n",
       "\n",
       "    .dataframe thead th {\n",
       "        text-align: right;\n",
       "    }\n",
       "</style>\n",
       "<table border=\"1\" class=\"dataframe\">\n",
       "  <thead>\n",
       "    <tr style=\"text-align: right;\">\n",
       "      <th></th>\n",
       "      <th>Параметры модели</th>\n",
       "      <th>Точность учебного набора</th>\n",
       "      <th>Потери учебного набора</th>\n",
       "      <th>Точность контрольного набора</th>\n",
       "      <th>Потери контрольного набора</th>\n",
       "    </tr>\n",
       "  </thead>\n",
       "  <tbody>\n",
       "    <tr>\n",
       "      <th>0</th>\n",
       "      <td>Базовая модель</td>\n",
       "      <td>93.88</td>\n",
       "      <td>18.05</td>\n",
       "      <td>87.27</td>\n",
       "      <td>32.06</td>\n",
       "    </tr>\n",
       "    <tr>\n",
       "      <th>1</th>\n",
       "      <td>Модель с 3 скрытыми слоями</td>\n",
       "      <td>94.50</td>\n",
       "      <td>29.12</td>\n",
       "      <td>85.00</td>\n",
       "      <td>77.64</td>\n",
       "    </tr>\n",
       "    <tr>\n",
       "      <th>2</th>\n",
       "      <td>Модель с 64 нейронами</td>\n",
       "      <td>94.66</td>\n",
       "      <td>18.45</td>\n",
       "      <td>86.27</td>\n",
       "      <td>42.44</td>\n",
       "    </tr>\n",
       "    <tr>\n",
       "      <th>3</th>\n",
       "      <td>Модель с функцией потерь mean_squared_error</td>\n",
       "      <td>94.00</td>\n",
       "      <td>5.07</td>\n",
       "      <td>87.44</td>\n",
       "      <td>9.31</td>\n",
       "    </tr>\n",
       "    <tr>\n",
       "      <th>4</th>\n",
       "      <td>Модель с функцией активации tanh</td>\n",
       "      <td>94.13</td>\n",
       "      <td>17.75</td>\n",
       "      <td>86.88</td>\n",
       "      <td>35.39</td>\n",
       "    </tr>\n",
       "  </tbody>\n",
       "</table>\n",
       "</div>"
      ],
      "text/plain": [
       "                              Параметры модели  Точность учебного набора   \n",
       "0                               Базовая модель                     93.88  \\\n",
       "1                   Модель с 3 скрытыми слоями                     94.50   \n",
       "2                        Модель с 64 нейронами                     94.66   \n",
       "3  Модель с функцией потерь mean_squared_error                     94.00   \n",
       "4             Модель с функцией активации tanh                     94.13   \n",
       "\n",
       "   Потери учебного набора  Точность контрольного набора    \n",
       "0                   18.05                          87.27  \\\n",
       "1                   29.12                          85.00   \n",
       "2                   18.45                          86.27   \n",
       "3                    5.07                          87.44   \n",
       "4                   17.75                          86.88   \n",
       "\n",
       "   Потери контрольного набора  \n",
       "0                       32.06  \n",
       "1                       77.64  \n",
       "2                       42.44  \n",
       "3                        9.31  \n",
       "4                       35.39  "
      ]
     },
     "execution_count": 20,
     "metadata": {},
     "output_type": "execute_result"
    }
   ],
   "source": [
    "import pandas as pd\n",
    "\n",
    "Tablica = pd.DataFrame([['Базовая модель',round(100*train_acc, 2), round(100*train_loss, 2), round(100*acc, 2), round(100*loss, 2)],\n",
    "                   ['Модель с 3 скрытыми слоями', round(100*train_acc1, 2), round(100*train_loss1, 2), round(100*test_acc1, 2), round(100*test_loss1, 2)],\n",
    "                   ['Модель с 64 нейронами',round(100*train_acc2, 2), round(100*train_loss2, 2), round(100*test_acc2, 2), round(100*test_loss2, 2)],\n",
    "                   ['Модель с функцией потерь mean_squared_error',round(100*train_acc3, 2), round(100*train_loss3, 2), round(100*test_acc3, 2), round(100*test_loss3, 2)],\n",
    "                   ['Модель с функцией активации tanh',round(100*train_acc4, 2), round(100*train_loss4, 2), round(100*test_acc4, 2), round(100*test_loss4, 2)]],\n",
    "                   columns=['Параметры модели','Точность учебного набора', 'Потери учебного набора', 'Точность контрольного набора ', 'Потери контрольного набора'])\n",
    "\n",
    "Tablica"
   ]
  }
 ],
 "metadata": {
  "kernelspec": {
   "display_name": "Python 3",
   "language": "python",
   "name": "python3"
  },
  "language_info": {
   "codemirror_mode": {
    "name": "ipython",
    "version": 3
   },
   "file_extension": ".py",
   "mimetype": "text/x-python",
   "name": "python",
   "nbconvert_exporter": "python",
   "pygments_lexer": "ipython3",
   "version": "3.10.6"
  },
  "orig_nbformat": 4
 },
 "nbformat": 4,
 "nbformat_minor": 2
}
